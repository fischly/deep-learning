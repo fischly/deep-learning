{
 "cells": [
  {
   "cell_type": "markdown",
   "metadata": {},
   "source": [
    "# Titanic - Machine Learning from Disaster\n",
    "\n",
    "\n",
    "Kaggle link: https://www.kaggle.com/c/titanic"
   ]
  },
  {
   "cell_type": "markdown",
   "metadata": {},
   "source": [
    "Import all the needed library and init Weights and Biases"
   ]
  },
  {
   "cell_type": "code",
   "execution_count": 66,
   "metadata": {
    "tags": []
   },
   "outputs": [],
   "source": [
    "import numpy as np\n",
    "\n",
    "import torch\n",
    "import torch.nn as nn\n",
    "torch.manual_seed(0)\n",
    "\n",
    "import matplotlib\n",
    "import matplotlib.pyplot as plt\n",
    "%matplotlib inline\n",
    "\n",
    "from scipy import stats\n",
    "import pandas as pd\n",
    "import seaborn as sns\n",
    "\n",
    "import wandb"
   ]
  },
  {
   "cell_type": "code",
   "execution_count": 67,
   "metadata": {},
   "outputs": [
    {
     "data": {
      "text/html": [
       "Finishing last run (ID:cqh65w3b) before initializing another..."
      ],
      "text/plain": [
       "<IPython.core.display.HTML object>"
      ]
     },
     "metadata": {},
     "output_type": "display_data"
    },
    {
     "data": {
      "text/html": [
       "Waiting for W&B process to finish... <strong style=\"color:green\">(success).</strong>"
      ],
      "text/plain": [
       "<IPython.core.display.HTML object>"
      ]
     },
     "metadata": {},
     "output_type": "display_data"
    },
    {
     "data": {
      "application/vnd.jupyter.widget-view+json": {
       "model_id": "f0ea1b13e3e3458888b5b4eda39794c3",
       "version_major": 2,
       "version_minor": 0
      },
      "text/plain": [
       "VBox(children=(Label(value='0.001 MB of 0.001 MB uploaded (0.000 MB deduped)\\r'), FloatProgress(value=1.0, max…"
      ]
     },
     "metadata": {},
     "output_type": "display_data"
    },
    {
     "data": {
      "text/html": [
       "<style>\n",
       "    table.wandb td:nth-child(1) { padding: 0 10px; text-align: left ; width: auto;} td:nth-child(2) {text-align: left ; width: 100%}\n",
       "    .wandb-row { display: flex; flex-direction: row; flex-wrap: wrap; justify-content: flex-start; width: 100% }\n",
       "    .wandb-col { display: flex; flex-direction: column; flex-basis: 100%; flex: 1; padding: 10px; }\n",
       "    </style>\n",
       "<div class=\"wandb-row\"><div class=\"wandb-col\"><h3>Run history:</h3><br/><table class=\"wandb\"><tr><td>correct%</td><td>▁▃▆▆▇▇██████████████████████████████████</td></tr><tr><td>epoch</td><td>▁▁▁▁▂▂▂▂▂▃▃▃▃▃▃▄▄▄▄▄▅▅▅▅▅▅▆▆▆▆▆▇▇▇▇▇▇███</td></tr><tr><td>training_loss</td><td>█▆▄▃▂▂▂▂▂▂▂▂▂▁▁▁▁▁▁▁▁▁▁▁▁▁▁▁▁▁▁▁▁▁▁▁▁▁▁▁</td></tr><tr><td>validation_loss</td><td>█▆▄▃▃▂▂▂▂▁▁▁▂▁▂▁▁▁▁▁▁▁▁▂▁▁▁▂▁▁▁▁▂▁▁▁▂▂▁▂</td></tr></table><br/></div><div class=\"wandb-col\"><h3>Run summary:</h3><br/><table class=\"wandb\"><tr><td>correct%</td><td>0.83582</td></tr><tr><td>epoch</td><td>399</td></tr><tr><td>training_loss</td><td>8.02357</td></tr><tr><td>validation_loss</td><td>3.7679</td></tr></table><br/></div></div>"
      ],
      "text/plain": [
       "<IPython.core.display.HTML object>"
      ]
     },
     "metadata": {},
     "output_type": "display_data"
    },
    {
     "data": {
      "text/html": [
       "Synced <strong style=\"color:#cdcd00\">good-brook-11</strong>: <a href=\"https://wandb.ai/fischly/titanic/runs/cqh65w3b\" target=\"_blank\">https://wandb.ai/fischly/titanic/runs/cqh65w3b</a><br/>Synced 5 W&B file(s), 1 media file(s), 0 artifact file(s) and 0 other file(s)"
      ],
      "text/plain": [
       "<IPython.core.display.HTML object>"
      ]
     },
     "metadata": {},
     "output_type": "display_data"
    },
    {
     "data": {
      "text/html": [
       "Find logs at: <code>.\\wandb\\run-20221102_211819-cqh65w3b\\logs</code>"
      ],
      "text/plain": [
       "<IPython.core.display.HTML object>"
      ]
     },
     "metadata": {},
     "output_type": "display_data"
    },
    {
     "data": {
      "text/html": [
       "Successfully finished last run (ID:cqh65w3b). Initializing new run:<br/>"
      ],
      "text/plain": [
       "<IPython.core.display.HTML object>"
      ]
     },
     "metadata": {},
     "output_type": "display_data"
    },
    {
     "data": {
      "application/vnd.jupyter.widget-view+json": {
       "model_id": "8b03ce004a63452a984e657316c904b7",
       "version_major": 2,
       "version_minor": 0
      },
      "text/plain": [
       "VBox(children=(Label(value='Waiting for wandb.init()...\\r'), FloatProgress(value=0.01693333333338766, max=1.0)…"
      ]
     },
     "metadata": {},
     "output_type": "display_data"
    },
    {
     "data": {
      "text/html": [
       "Tracking run with wandb version 0.13.4"
      ],
      "text/plain": [
       "<IPython.core.display.HTML object>"
      ]
     },
     "metadata": {},
     "output_type": "display_data"
    },
    {
     "data": {
      "text/html": [
       "Run data is saved locally in <code>C:\\Binaries\\WPy64-31050\\notebooks\\pr-dl\\Ex3\\wandb\\run-20221102_212409-yluz9b07</code>"
      ],
      "text/plain": [
       "<IPython.core.display.HTML object>"
      ]
     },
     "metadata": {},
     "output_type": "display_data"
    },
    {
     "data": {
      "text/html": [
       "Syncing run <strong><a href=\"https://wandb.ai/fischly/titanic/runs/yluz9b07\" target=\"_blank\">young-leaf-12</a></strong> to <a href=\"https://wandb.ai/fischly/titanic\" target=\"_blank\">Weights & Biases</a> (<a href=\"https://wandb.me/run\" target=\"_blank\">docs</a>)<br/>"
      ],
      "text/plain": [
       "<IPython.core.display.HTML object>"
      ]
     },
     "metadata": {},
     "output_type": "display_data"
    },
    {
     "data": {
      "text/html": [
       "<button onClick=\"this.nextSibling.style.display='block';this.style.display='none';\">Display W&B run</button><iframe src=\"https://wandb.ai/fischly/titanic/runs/yluz9b07?jupyter=true\" style=\"border:none;width:100%;height:420px;display:none;\"></iframe>"
      ],
      "text/plain": [
       "<wandb.sdk.wandb_run.Run at 0x1b344bf66e0>"
      ]
     },
     "execution_count": 67,
     "metadata": {},
     "output_type": "execute_result"
    }
   ],
   "source": [
    "num_epochs = 400\n",
    "lr = 5e-3\n",
    "batch_size = 32\n",
    "momentum = 0\n",
    "\n",
    "wandb.init(project='titanic', config={\n",
    "    'num-epochs': num_epochs,\n",
    "    'learning-rate': lr,\n",
    "    'batch-size': batch_size,\n",
    "    'momentum': momentum\n",
    "})"
   ]
  },
  {
   "cell_type": "markdown",
   "metadata": {},
   "source": [
    "We first need to read the datasets"
   ]
  },
  {
   "cell_type": "code",
   "execution_count": 68,
   "metadata": {
    "tags": []
   },
   "outputs": [
    {
     "data": {
      "text/html": [
       "<div>\n",
       "<style scoped>\n",
       "    .dataframe tbody tr th:only-of-type {\n",
       "        vertical-align: middle;\n",
       "    }\n",
       "\n",
       "    .dataframe tbody tr th {\n",
       "        vertical-align: top;\n",
       "    }\n",
       "\n",
       "    .dataframe thead th {\n",
       "        text-align: right;\n",
       "    }\n",
       "</style>\n",
       "<table border=\"1\" class=\"dataframe\">\n",
       "  <thead>\n",
       "    <tr style=\"text-align: right;\">\n",
       "      <th></th>\n",
       "      <th>PassengerId</th>\n",
       "      <th>Survived</th>\n",
       "      <th>Pclass</th>\n",
       "      <th>Name</th>\n",
       "      <th>Sex</th>\n",
       "      <th>Age</th>\n",
       "      <th>SibSp</th>\n",
       "      <th>Parch</th>\n",
       "      <th>Ticket</th>\n",
       "      <th>Fare</th>\n",
       "      <th>Cabin</th>\n",
       "      <th>Embarked</th>\n",
       "    </tr>\n",
       "  </thead>\n",
       "  <tbody>\n",
       "    <tr>\n",
       "      <th>0</th>\n",
       "      <td>1</td>\n",
       "      <td>0</td>\n",
       "      <td>3</td>\n",
       "      <td>Braund, Mr. Owen Harris</td>\n",
       "      <td>male</td>\n",
       "      <td>22.0</td>\n",
       "      <td>1</td>\n",
       "      <td>0</td>\n",
       "      <td>A/5 21171</td>\n",
       "      <td>7.2500</td>\n",
       "      <td>NaN</td>\n",
       "      <td>S</td>\n",
       "    </tr>\n",
       "    <tr>\n",
       "      <th>1</th>\n",
       "      <td>2</td>\n",
       "      <td>1</td>\n",
       "      <td>1</td>\n",
       "      <td>Cumings, Mrs. John Bradley (Florence Briggs Th...</td>\n",
       "      <td>female</td>\n",
       "      <td>38.0</td>\n",
       "      <td>1</td>\n",
       "      <td>0</td>\n",
       "      <td>PC 17599</td>\n",
       "      <td>71.2833</td>\n",
       "      <td>C85</td>\n",
       "      <td>C</td>\n",
       "    </tr>\n",
       "    <tr>\n",
       "      <th>2</th>\n",
       "      <td>3</td>\n",
       "      <td>1</td>\n",
       "      <td>3</td>\n",
       "      <td>Heikkinen, Miss. Laina</td>\n",
       "      <td>female</td>\n",
       "      <td>26.0</td>\n",
       "      <td>0</td>\n",
       "      <td>0</td>\n",
       "      <td>STON/O2. 3101282</td>\n",
       "      <td>7.9250</td>\n",
       "      <td>NaN</td>\n",
       "      <td>S</td>\n",
       "    </tr>\n",
       "    <tr>\n",
       "      <th>3</th>\n",
       "      <td>4</td>\n",
       "      <td>1</td>\n",
       "      <td>1</td>\n",
       "      <td>Futrelle, Mrs. Jacques Heath (Lily May Peel)</td>\n",
       "      <td>female</td>\n",
       "      <td>35.0</td>\n",
       "      <td>1</td>\n",
       "      <td>0</td>\n",
       "      <td>113803</td>\n",
       "      <td>53.1000</td>\n",
       "      <td>C123</td>\n",
       "      <td>S</td>\n",
       "    </tr>\n",
       "    <tr>\n",
       "      <th>4</th>\n",
       "      <td>5</td>\n",
       "      <td>0</td>\n",
       "      <td>3</td>\n",
       "      <td>Allen, Mr. William Henry</td>\n",
       "      <td>male</td>\n",
       "      <td>35.0</td>\n",
       "      <td>0</td>\n",
       "      <td>0</td>\n",
       "      <td>373450</td>\n",
       "      <td>8.0500</td>\n",
       "      <td>NaN</td>\n",
       "      <td>S</td>\n",
       "    </tr>\n",
       "  </tbody>\n",
       "</table>\n",
       "</div>"
      ],
      "text/plain": [
       "   PassengerId  Survived  Pclass  \\\n",
       "0            1         0       3   \n",
       "1            2         1       1   \n",
       "2            3         1       3   \n",
       "3            4         1       1   \n",
       "4            5         0       3   \n",
       "\n",
       "                                                Name     Sex   Age  SibSp  \\\n",
       "0                            Braund, Mr. Owen Harris    male  22.0      1   \n",
       "1  Cumings, Mrs. John Bradley (Florence Briggs Th...  female  38.0      1   \n",
       "2                             Heikkinen, Miss. Laina  female  26.0      0   \n",
       "3       Futrelle, Mrs. Jacques Heath (Lily May Peel)  female  35.0      1   \n",
       "4                           Allen, Mr. William Henry    male  35.0      0   \n",
       "\n",
       "   Parch            Ticket     Fare Cabin Embarked  \n",
       "0      0         A/5 21171   7.2500   NaN        S  \n",
       "1      0          PC 17599  71.2833   C85        C  \n",
       "2      0  STON/O2. 3101282   7.9250   NaN        S  \n",
       "3      0            113803  53.1000  C123        S  \n",
       "4      0            373450   8.0500   NaN        S  "
      ]
     },
     "execution_count": 68,
     "metadata": {},
     "output_type": "execute_result"
    }
   ],
   "source": [
    "titanic_training_data = pd.read_csv('data/train.csv')\n",
    "titanic_test_data = pd.read_csv('data/test.csv')\n",
    "titanic_training_data.head()"
   ]
  },
  {
   "cell_type": "markdown",
   "metadata": {},
   "source": [
    "Dataframe needs to be cleaned, knowing if some informations are unknown can be very important to determine if someone survived"
   ]
  },
  {
   "cell_type": "code",
   "execution_count": 69,
   "metadata": {
    "tags": []
   },
   "outputs": [
    {
     "data": {
      "text/html": [
       "<div>\n",
       "<style scoped>\n",
       "    .dataframe tbody tr th:only-of-type {\n",
       "        vertical-align: middle;\n",
       "    }\n",
       "\n",
       "    .dataframe tbody tr th {\n",
       "        vertical-align: top;\n",
       "    }\n",
       "\n",
       "    .dataframe thead th {\n",
       "        text-align: right;\n",
       "    }\n",
       "</style>\n",
       "<table border=\"1\" class=\"dataframe\">\n",
       "  <thead>\n",
       "    <tr style=\"text-align: right;\">\n",
       "      <th></th>\n",
       "      <th>Age</th>\n",
       "      <th>SibSp</th>\n",
       "      <th>Parch</th>\n",
       "      <th>Fare</th>\n",
       "      <th>ageNan</th>\n",
       "      <th>cabinNan</th>\n",
       "      <th>embarkedNan</th>\n",
       "      <th>isChild</th>\n",
       "      <th>isSenior</th>\n",
       "      <th>famSize</th>\n",
       "      <th>...</th>\n",
       "      <th>pclass__1</th>\n",
       "      <th>pclass__2</th>\n",
       "      <th>pclass__3</th>\n",
       "      <th>embarked__C</th>\n",
       "      <th>embarked__Q</th>\n",
       "      <th>embarked__S</th>\n",
       "      <th>title__0</th>\n",
       "      <th>title__1</th>\n",
       "      <th>title__2</th>\n",
       "      <th>title__3</th>\n",
       "    </tr>\n",
       "  </thead>\n",
       "  <tbody>\n",
       "    <tr>\n",
       "      <th>0</th>\n",
       "      <td>-0.530005</td>\n",
       "      <td>0.432550</td>\n",
       "      <td>-0.473408</td>\n",
       "      <td>1.981001</td>\n",
       "      <td>False</td>\n",
       "      <td>True</td>\n",
       "      <td>False</td>\n",
       "      <td>False</td>\n",
       "      <td>False</td>\n",
       "      <td>0.059127</td>\n",
       "      <td>...</td>\n",
       "      <td>False</td>\n",
       "      <td>False</td>\n",
       "      <td>True</td>\n",
       "      <td>False</td>\n",
       "      <td>False</td>\n",
       "      <td>True</td>\n",
       "      <td>0</td>\n",
       "      <td>0</td>\n",
       "      <td>1</td>\n",
       "      <td>0</td>\n",
       "    </tr>\n",
       "    <tr>\n",
       "      <th>1</th>\n",
       "      <td>0.571430</td>\n",
       "      <td>0.432550</td>\n",
       "      <td>-0.473408</td>\n",
       "      <td>4.266662</td>\n",
       "      <td>False</td>\n",
       "      <td>False</td>\n",
       "      <td>False</td>\n",
       "      <td>False</td>\n",
       "      <td>False</td>\n",
       "      <td>0.059127</td>\n",
       "      <td>...</td>\n",
       "      <td>True</td>\n",
       "      <td>False</td>\n",
       "      <td>False</td>\n",
       "      <td>True</td>\n",
       "      <td>False</td>\n",
       "      <td>False</td>\n",
       "      <td>0</td>\n",
       "      <td>1</td>\n",
       "      <td>0</td>\n",
       "      <td>0</td>\n",
       "    </tr>\n",
       "    <tr>\n",
       "      <th>2</th>\n",
       "      <td>-0.254646</td>\n",
       "      <td>-0.474279</td>\n",
       "      <td>-0.473408</td>\n",
       "      <td>2.070022</td>\n",
       "      <td>False</td>\n",
       "      <td>True</td>\n",
       "      <td>False</td>\n",
       "      <td>False</td>\n",
       "      <td>False</td>\n",
       "      <td>-0.560660</td>\n",
       "      <td>...</td>\n",
       "      <td>False</td>\n",
       "      <td>False</td>\n",
       "      <td>True</td>\n",
       "      <td>False</td>\n",
       "      <td>False</td>\n",
       "      <td>True</td>\n",
       "      <td>0</td>\n",
       "      <td>1</td>\n",
       "      <td>0</td>\n",
       "      <td>0</td>\n",
       "    </tr>\n",
       "    <tr>\n",
       "      <th>3</th>\n",
       "      <td>0.364911</td>\n",
       "      <td>0.432550</td>\n",
       "      <td>-0.473408</td>\n",
       "      <td>3.972177</td>\n",
       "      <td>False</td>\n",
       "      <td>False</td>\n",
       "      <td>False</td>\n",
       "      <td>False</td>\n",
       "      <td>False</td>\n",
       "      <td>0.059127</td>\n",
       "      <td>...</td>\n",
       "      <td>True</td>\n",
       "      <td>False</td>\n",
       "      <td>False</td>\n",
       "      <td>False</td>\n",
       "      <td>False</td>\n",
       "      <td>True</td>\n",
       "      <td>0</td>\n",
       "      <td>1</td>\n",
       "      <td>0</td>\n",
       "      <td>0</td>\n",
       "    </tr>\n",
       "    <tr>\n",
       "      <th>4</th>\n",
       "      <td>0.364911</td>\n",
       "      <td>-0.474279</td>\n",
       "      <td>-0.473408</td>\n",
       "      <td>2.085672</td>\n",
       "      <td>False</td>\n",
       "      <td>True</td>\n",
       "      <td>False</td>\n",
       "      <td>False</td>\n",
       "      <td>False</td>\n",
       "      <td>-0.560660</td>\n",
       "      <td>...</td>\n",
       "      <td>False</td>\n",
       "      <td>False</td>\n",
       "      <td>True</td>\n",
       "      <td>False</td>\n",
       "      <td>False</td>\n",
       "      <td>True</td>\n",
       "      <td>0</td>\n",
       "      <td>0</td>\n",
       "      <td>1</td>\n",
       "      <td>0</td>\n",
       "    </tr>\n",
       "  </tbody>\n",
       "</table>\n",
       "<p>5 rows × 26 columns</p>\n",
       "</div>"
      ],
      "text/plain": [
       "        Age     SibSp     Parch      Fare  ageNan  cabinNan  embarkedNan  \\\n",
       "0 -0.530005  0.432550 -0.473408  1.981001   False      True        False   \n",
       "1  0.571430  0.432550 -0.473408  4.266662   False     False        False   \n",
       "2 -0.254646 -0.474279 -0.473408  2.070022   False      True        False   \n",
       "3  0.364911  0.432550 -0.473408  3.972177   False     False        False   \n",
       "4  0.364911 -0.474279 -0.473408  2.085672   False      True        False   \n",
       "\n",
       "   isChild  isSenior   famSize  ...  pclass__1  pclass__2  pclass__3  \\\n",
       "0    False     False  0.059127  ...      False      False       True   \n",
       "1    False     False  0.059127  ...       True      False      False   \n",
       "2    False     False -0.560660  ...      False      False       True   \n",
       "3    False     False  0.059127  ...       True      False      False   \n",
       "4    False     False -0.560660  ...      False      False       True   \n",
       "\n",
       "   embarked__C  embarked__Q  embarked__S  title__0  title__1  title__2  \\\n",
       "0        False        False         True         0         0         1   \n",
       "1         True        False        False         0         1         0   \n",
       "2        False        False         True         0         1         0   \n",
       "3        False        False         True         0         1         0   \n",
       "4        False        False         True         0         0         1   \n",
       "\n",
       "   title__3  \n",
       "0         0  \n",
       "1         0  \n",
       "2         0  \n",
       "3         0  \n",
       "4         0  \n",
       "\n",
       "[5 rows x 26 columns]"
      ]
     },
     "execution_count": 69,
     "metadata": {},
     "output_type": "execute_result"
    }
   ],
   "source": [
    "def clean_titanic(df, train=True):\n",
    "    # store whether some fields are not given as new feature\n",
    "    df['ageNan'] = df['Age'].apply(lambda x: pd.isna(x)).astype(bool)\n",
    "    df['cabinNan'] = df['Cabin'].apply(lambda x: pd.isna(x)).astype(bool)\n",
    "    df['embarkedNan'] = df['Embarked'].apply(lambda x: pd.isna(x)).astype(bool)\n",
    "\n",
    "    # create a feature that says whether a person is a child (age < 16) or a senor (age > 60)\n",
    "    df['isChild'] = df['Age'].apply(lambda x: x < 16).astype(bool)\n",
    "    df['isSenior'] = df['Age'].apply(lambda x: x > 60).astype(bool)\n",
    "    \n",
    "    # extract title (taken from: https://www.kaggle.com/code/yassineghouzam/titanic-top-4-with-ensemble-modeling)\n",
    "    df['title'] = [i.split(',')[1].split('.')[0].strip() for i in df['Name']]\n",
    "    df['title'] = df['title'].replace(['Lady', 'the Countess','Countess','Capt', 'Col','Don', 'Dr', 'Major', 'Rev', 'Sir', 'Jonkheer', 'Dona'], 'Rare')\n",
    "    df['title'] = df['title'].map({'Master': 0, 'Miss': 1, 'Ms': 1 , 'Mme': 1, 'Mlle': 1, 'Mrs': 1, 'Mr': 2, 'Rare': 3})\n",
    "    \n",
    "    # family size (taken from: https://www.kaggle.com/code/yassineghouzam/titanic-top-4-with-ensemble-modeling)\n",
    "    df['famSize'] = df['SibSp'] + df['Parch'] + 1\n",
    "    df['famSingle'] = df['famSize'].map(lambda x: 1 if x == 1 else 0)\n",
    "    df['famSmall'] = df['famSize'].map(lambda x: 1 if  x == 2  else 0)\n",
    "    df['famMed'] = df['famSize'].map(lambda s: 1 if 3 <= s <= 4 else 0)\n",
    "    df['famLarge'] = df['famSize'].map(lambda s: 1 if s >= 5 else 0)\n",
    "    \n",
    "    # one-hot-encoding of categorical fields (sex, class and embarked)\n",
    "    df = pd.concat([\n",
    "        df,\n",
    "        pd.get_dummies(df['Sex'], dtype='bool', prefix='sex_'),\n",
    "        pd.get_dummies(df['Pclass'], dtype='bool', prefix='pclass_'),\n",
    "        pd.get_dummies(df['Embarked'], dtype='bool', prefix='embarked_'),\n",
    "        pd.get_dummies(df['title'], prefix='title_')\n",
    "    ], axis=1)\n",
    "    df = df.drop(['PassengerId', 'Name', 'Ticket', 'Sex', 'Pclass', 'Embarked', 'Cabin', 'title'], axis=1)\n",
    "\n",
    "    if train:\n",
    "        df = df.drop(['Survived'], axis=1)\n",
    "\n",
    "    # normalize all numerical features (like Age, SibSp, Parch and Fare)\n",
    "    df['Fare'] = df['Fare'].map(lambda i: np.log(i) if i > 0 else 0)\n",
    "    \n",
    "    numeric_features = ['Age', 'SibSp', 'Parch', 'famSize']   #df.dtypes[(df.dtypes != 'object') & (df.dtypes != 'bool')].index\n",
    "    df[numeric_features] = df[numeric_features].apply(lambda x: (x - x.mean()) / (x.std()))\n",
    "\n",
    "    # fill rows where Age/Fare is not given with the mean of all persons' ages/fares\n",
    "    df['Age'] = df['Age'].fillna(df['Age'].mean())\n",
    "    df['Fare'] = df['Fare'].fillna(df['Fare'].median())\n",
    "    \n",
    "\n",
    "    return df\n",
    "\n",
    "targets = torch.tensor(titanic_training_data[\"Survived\"].values, dtype=torch.float32)\n",
    "training_data = clean_titanic(titanic_training_data)\n",
    "training_data.head(5)"
   ]
  },
  {
   "cell_type": "markdown",
   "metadata": {},
   "source": [
    "We then transform the data from numpy (pandas representation) into torch's `Tensor`"
   ]
  },
  {
   "cell_type": "code",
   "execution_count": 70,
   "metadata": {
    "tags": []
   },
   "outputs": [
    {
     "data": {
      "text/plain": [
       "tensor([[-0.5300,  0.4326, -0.4734,  1.9810,  0.0000,  1.0000,  0.0000,  0.0000,\n",
       "          0.0000,  0.0591,  0.0000,  1.0000,  0.0000,  0.0000,  0.0000,  1.0000,\n",
       "          0.0000,  0.0000,  1.0000,  0.0000,  0.0000,  1.0000,  0.0000,  0.0000,\n",
       "          1.0000,  0.0000],\n",
       "        [ 0.5714,  0.4326, -0.4734,  4.2667,  0.0000,  0.0000,  0.0000,  0.0000,\n",
       "          0.0000,  0.0591,  0.0000,  1.0000,  0.0000,  0.0000,  1.0000,  0.0000,\n",
       "          1.0000,  0.0000,  0.0000,  1.0000,  0.0000,  0.0000,  0.0000,  1.0000,\n",
       "          0.0000,  0.0000],\n",
       "        [-0.2546, -0.4743, -0.4734,  2.0700,  0.0000,  1.0000,  0.0000,  0.0000,\n",
       "          0.0000, -0.5607,  1.0000,  0.0000,  0.0000,  0.0000,  1.0000,  0.0000,\n",
       "          0.0000,  0.0000,  1.0000,  0.0000,  0.0000,  1.0000,  0.0000,  1.0000,\n",
       "          0.0000,  0.0000],\n",
       "        [ 0.3649,  0.4326, -0.4734,  3.9722,  0.0000,  0.0000,  0.0000,  0.0000,\n",
       "          0.0000,  0.0591,  0.0000,  1.0000,  0.0000,  0.0000,  1.0000,  0.0000,\n",
       "          1.0000,  0.0000,  0.0000,  0.0000,  0.0000,  1.0000,  0.0000,  1.0000,\n",
       "          0.0000,  0.0000],\n",
       "        [ 0.3649, -0.4743, -0.4734,  2.0857,  0.0000,  1.0000,  0.0000,  0.0000,\n",
       "          0.0000, -0.5607,  1.0000,  0.0000,  0.0000,  0.0000,  0.0000,  1.0000,\n",
       "          0.0000,  0.0000,  1.0000,  0.0000,  0.0000,  1.0000,  0.0000,  0.0000,\n",
       "          1.0000,  0.0000]])"
      ]
     },
     "execution_count": 70,
     "metadata": {},
     "output_type": "execute_result"
    }
   ],
   "source": [
    "training_tensor = torch.tensor(training_data.astype('float').values, dtype=torch.float32)\n",
    "training_tensor[0:5]"
   ]
  },
  {
   "cell_type": "markdown",
   "metadata": {},
   "source": [
    "Create a `TensorDataset` to get tuple of data and label"
   ]
  },
  {
   "cell_type": "code",
   "execution_count": 71,
   "metadata": {
    "tags": []
   },
   "outputs": [],
   "source": [
    "dataset = torch.utils.data.TensorDataset(training_tensor, targets)"
   ]
  },
  {
   "cell_type": "markdown",
   "metadata": {},
   "source": [
    "We then split between the training and validation set"
   ]
  },
  {
   "cell_type": "code",
   "execution_count": 72,
   "metadata": {
    "tags": []
   },
   "outputs": [],
   "source": [
    "training_size = int(0.7 * len(dataset))\n",
    "validation_size = len(dataset) - training_size\n",
    "\n",
    "# random_split creates subsets\n",
    "train, val = torch.utils.data.random_split(dataset, [training_size, validation_size], generator=torch.Generator().manual_seed(0))\n",
    "\n",
    "data_loader_train = torch.utils.data.DataLoader(train, batch_size=batch_size, shuffle=True)\n",
    "data_loader_val = torch.utils.data.DataLoader(val, batch_size=batch_size, shuffle=True)"
   ]
  },
  {
   "cell_type": "markdown",
   "metadata": {},
   "source": [
    "Layer initialization using Xavier Uniform on the weight and a constant 0 value on the bias"
   ]
  },
  {
   "cell_type": "code",
   "execution_count": 73,
   "metadata": {
    "tags": []
   },
   "outputs": [],
   "source": [
    "# layer initialisation\n",
    "def init_first_layer(m):\n",
    "    torch.nn.init.xavier_normal_(m.weight)\n",
    "    torch.nn.init.constant_(m.bias, 0)\n",
    "    return m"
   ]
  },
  {
   "cell_type": "markdown",
   "metadata": {},
   "source": [
    "Create the LinearModel with one Linear layer and Sigmoid applied to the output"
   ]
  },
  {
   "cell_type": "code",
   "execution_count": 74,
   "metadata": {
    "tags": []
   },
   "outputs": [],
   "source": [
    "class LinearModel(nn.Module):\n",
    "    def __init__(self, in_dim, out_dim):\n",
    "        super(LinearModel, self).__init__()\n",
    "        self.linear1 = init_first_layer(nn.Linear(in_dim, in_dim*2))\n",
    "        self.relu = nn.Tanh()\n",
    "        self.linear2 = init_first_layer(nn.Linear(in_dim*2, out_dim))\n",
    "        self.sigmoid = nn.Sigmoid()\n",
    "\n",
    "    def forward(self, x):\n",
    "        pred = self.linear1(x)\n",
    "        pred = self.relu(pred)\n",
    "        pred = self.linear2(pred)\n",
    "        return self.sigmoid(pred)"
   ]
  },
  {
   "cell_type": "markdown",
   "metadata": {},
   "source": [
    "Initialize the network (call it `net`, it would makes things easier later), the loss, the optimizer and write the training loop\n",
    "\n",
    "Don't forget to check the validation loss and save your model at the end of each epoch!"
   ]
  },
  {
   "cell_type": "code",
   "execution_count": 75,
   "metadata": {
    "tags": []
   },
   "outputs": [
    {
     "name": "stderr",
     "output_type": "stream",
     "text": [
      "\u001b[34m\u001b[1mwandb\u001b[0m: logging graph, to disable use `wandb.watch(log_graph=False)`\n"
     ]
    },
    {
     "data": {
      "text/plain": [
       "<AxesSubplot:xlabel='epoch', ylabel='correct'>"
      ]
     },
     "execution_count": 75,
     "metadata": {},
     "output_type": "execute_result"
    },
    {
     "data": {
      "image/png": "[encoded data removed]",
      "text/plain": [
       "<Figure size 432x288 with 1 Axes>"
      ]
     },
     "metadata": {
      "needs_background": "light"
     },
     "output_type": "display_data"
    }
   ],
   "source": [
    "net = LinearModel(training_tensor.shape[1], 1)\n",
    "\n",
    "# use binary cross entropy loss for binary classification\n",
    "criterion = nn.BCELoss()\n",
    "# stochastic gradient decent optimizer\n",
    "optimizer = torch.optim.SGD(net.parameters(), lr=lr, momentum=momentum)\n",
    "\n",
    "wandb.watch(net, log='all', criterion=criterion, log_freq=8,  log_graph=(True))\n",
    "\n",
    "\n",
    "epoch_losses = []\n",
    "\n",
    "for epoch in range(num_epochs):\n",
    "    training_loss = 0\n",
    "\n",
    "    # iterate over batches\n",
    "    for (X, y) in data_loader_train:\n",
    "        y_hat = net(X)\n",
    "        loss = criterion(y_hat.squeeze(), y)\n",
    "\n",
    "        optimizer.zero_grad()\n",
    "        loss.backward()\n",
    "        optimizer.step()\n",
    "\n",
    "        training_loss += loss.item()\n",
    "\n",
    "    # VALIDATION LOOP\n",
    "    counter = 0\n",
    "    correct = 0\n",
    "    validation_loss = 0\n",
    "\n",
    "    with torch.no_grad():\n",
    "        for (X, y) in data_loader_val:\n",
    "            y_hat = net(X)\n",
    "            loss = criterion(y_hat.squeeze(), y)\n",
    "            validation_loss += loss.item()\n",
    "\n",
    "            survived = y == 1.0\n",
    "            survived_hat = y_hat.squeeze() > 0.5\n",
    "\n",
    "            counter += len(y)\n",
    "            correct += (survived == survived_hat).sum().item()\n",
    "\n",
    "    epoch_losses.append({'epoch': epoch, 'loss': validation_loss, 'correct': correct / counter})\n",
    "    \n",
    "    wandb.log({'epoch': epoch, 'training_loss': training_loss, 'validation_loss': validation_loss, 'correct%': correct / counter})\n",
    "\n",
    "    # SAVE THE MODEL\n",
    "    torch.save(net.state_dict(), f'model/model-e{str(epoch).zfill(4)}.pt')\n",
    "    \n",
    "sns.lineplot(data=pd.DataFrame(epoch_losses), x='epoch', y='correct')"
   ]
  },
  {
   "cell_type": "markdown",
   "metadata": {},
   "source": [
    "This loop computes the prediction on the test dataset and create a submission file\n",
    "\n",
    "You then just have to click the submit button to get your score, lucky you!"
   ]
  },
  {
   "cell_type": "code",
   "execution_count": 76,
   "metadata": {
    "tags": []
   },
   "outputs": [],
   "source": [
    "titanic_test_data_cleaned = clean_titanic(titanic_test_data, train=False)\n",
    "titanic_data_tensor = torch.tensor(titanic_test_data_cleaned.astype('float').values, dtype=torch.float32)\n",
    "\n",
    "with torch.no_grad():\n",
    "    net.eval() # enable evaluation mode\n",
    "    test_pred = torch.LongTensor()\n",
    "\n",
    "    for i, data in enumerate(titanic_data_tensor):\n",
    "        output = net(data)\n",
    "        predicted = torch.ge(output, 0.5)\n",
    "        test_pred = torch.cat((test_pred, predicted), dim=0)\n",
    "\n",
    "    out_df = pd.DataFrame(np.c_[titanic_test_data['PassengerId'].values, test_pred.numpy()], columns=['PassengerId', 'Survived'])\n",
    "    out_df.to_csv('submission.csv', index=False)"
   ]
  }
 ],
 "metadata": {
  "kernelspec": {
   "display_name": "Python 3 (ipykernel)",
   "language": "python",
   "name": "python3"
  },
  "language_info": {
   "codemirror_mode": {
    "name": "ipython",
    "version": 3
   },
   "file_extension": ".py",
   "mimetype": "text/x-python",
   "name": "python",
   "nbconvert_exporter": "python",
   "pygments_lexer": "ipython3",
   "version": "3.10.5"
  }
 },
 "nbformat": 4,
 "nbformat_minor": 4
}
