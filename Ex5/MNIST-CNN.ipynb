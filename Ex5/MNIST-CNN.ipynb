{
 "cells": [
  {
   "cell_type": "markdown",
   "metadata": {},
   "source": [
    "Kaggle competition: https://www.kaggle.com/c/digit-recognizer/"
   ]
  },
  {
   "cell_type": "markdown",
   "metadata": {},
   "source": [
    "We need to import Torch's libraries"
   ]
  },
  {
   "cell_type": "code",
   "execution_count": 1,
   "metadata": {
    "tags": []
   },
   "outputs": [],
   "source": [
    "import numpy as np # linear algebra\n",
    "import pandas as pd # data processing, CSV file I/O (e.g. pd.read_csv)\n",
    "\n",
    "import seaborn as sns\n",
    "\n",
    "import torchvision\n",
    "import torch\n",
    "import torch.nn as nn\n",
    "import torch.nn.functional as F\n",
    "import torch.optim as optim\n",
    "from torchvision import transforms\n",
    "from torch.utils.data import DataLoader, Dataset"
   ]
  },
  {
   "cell_type": "markdown",
   "metadata": {},
   "source": [
    "## Data preparation\n",
    "\n",
    "A custom dataset which uses the CSV from Kaggle, avoid downloading the dataset from internet"
   ]
  },
  {
   "cell_type": "markdown",
   "metadata": {
    "tags": []
   },
   "source": [
    "### Hyperparams"
   ]
  },
  {
   "cell_type": "code",
   "execution_count": 2,
   "metadata": {
    "tags": []
   },
   "outputs": [],
   "source": [
    "# hyperparams\n",
    "num_epochs = 100\n",
    "batch_size = 128\n",
    "learning_rate = 2e-2\n",
    "momentum = 0.6"
   ]
  },
  {
   "cell_type": "code",
   "execution_count": 3,
   "metadata": {
    "tags": []
   },
   "outputs": [],
   "source": [
    "class MyMNISTDataset(Dataset):\n",
    "    \n",
    "    def __init__(\n",
    "        self,\n",
    "        file_path,\n",
    "        test_data=False,\n",
    "        use_gpu=torch.cuda.is_available()\n",
    "    ):\n",
    "\n",
    "        # read the data\n",
    "        df = pd.read_csv(file_path)\n",
    "        # for test data we don't have any target\n",
    "        # MNIST images are 28 by 28, grey colors\n",
    "        if test_data:\n",
    "            self.X = torch.tensor(df.apply(lambda x: ((x / 255) - 0.5) * 2).values, dtype=torch.float32)\n",
    "            self.y = None\n",
    "        else:\n",
    "            self.X = torch.tensor(df.iloc[:, 1:].apply(lambda x: ((x / 255) - 0.5) * 2).values, dtype=torch.float32)\n",
    "            self.y = torch.tensor(pd.get_dummies(df['label']).values, dtype=torch.float32)\n",
    "\n",
    "        if use_gpu:\n",
    "            self.X = self.X.to('cuda')\n",
    "            if self.y is not None:\n",
    "                self.y = self.y.to('cuda')\n",
    "    \n",
    "    def __len__(self):\n",
    "        return len(self.X)\n",
    "\n",
    "    def __getitem__(self, idx):\n",
    "        if self.y is not None:\n",
    "            return self.X[idx], self.y[idx]\n",
    "        else:\n",
    "            return self.X[idx]"
   ]
  },
  {
   "cell_type": "code",
   "execution_count": 4,
   "metadata": {
    "tags": []
   },
   "outputs": [],
   "source": [
    "train_dataset = MyMNISTDataset('data/train.csv', test_data=False, use_gpu=True)\n",
    "test_dataset = MyMNISTDataset('data/test.csv', test_data=True, use_gpu=True)"
   ]
  },
  {
   "cell_type": "code",
   "execution_count": 5,
   "metadata": {},
   "outputs": [],
   "source": [
    "# split train between validation and training set\n",
    "train_size = int(0.8 * len(train_dataset))\n",
    "validation_size = len(train_dataset) - train_size\n",
    "\n",
    "# random_split creates subsets\n",
    "train_subset, validation_subset = torch.utils.data.random_split(train_dataset, [train_size, validation_size], generator=torch.Generator().manual_seed(0))\n",
    "\n",
    "# create data loaders\n",
    "train_dataloader = DataLoader(train_subset, batch_size=batch_size, shuffle=True)\n",
    "validation_dataloader = DataLoader(validation_subset, batch_size=batch_size, shuffle=True)\n",
    "test_dataloader = DataLoader(test_dataset, batch_size=batch_size, shuffle=False)"
   ]
  },
  {
   "cell_type": "markdown",
   "metadata": {
    "tags": []
   },
   "source": [
    "### WandB init"
   ]
  },
  {
   "cell_type": "code",
   "execution_count": 6,
   "metadata": {},
   "outputs": [
    {
     "name": "stderr",
     "output_type": "stream",
     "text": [
      "\u001b[34m\u001b[1mwandb\u001b[0m: Currently logged in as: \u001b[33mfischly\u001b[0m. Use \u001b[1m`wandb login --relogin`\u001b[0m to force relogin\n"
     ]
    },
    {
     "data": {
      "text/html": [
       "wandb version 0.13.5 is available!  To upgrade, please run:\n",
       " $ pip install wandb --upgrade"
      ],
      "text/plain": [
       "<IPython.core.display.HTML object>"
      ]
     },
     "metadata": {},
     "output_type": "display_data"
    },
    {
     "data": {
      "text/html": [
       "Tracking run with wandb version 0.13.4"
      ],
      "text/plain": [
       "<IPython.core.display.HTML object>"
      ]
     },
     "metadata": {},
     "output_type": "display_data"
    },
    {
     "data": {
      "text/html": [
       "Run data is saved locally in <code>C:/temp/wandb\\wandb\\run-20221123_002909-33mrzhwo</code>"
      ],
      "text/plain": [
       "<IPython.core.display.HTML object>"
      ]
     },
     "metadata": {},
     "output_type": "display_data"
    },
    {
     "data": {
      "text/html": [
       "Syncing run <strong><a href=\"https://wandb.ai/fischly/MNIST/runs/33mrzhwo\" target=\"_blank\">clean-spaceship-22</a></strong> to <a href=\"https://wandb.ai/fischly/MNIST\" target=\"_blank\">Weights & Biases</a> (<a href=\"https://wandb.me/run\" target=\"_blank\">docs</a>)<br/>"
      ],
      "text/plain": [
       "<IPython.core.display.HTML object>"
      ]
     },
     "metadata": {},
     "output_type": "display_data"
    },
    {
     "data": {
      "text/html": [
       "<button onClick=\"this.nextSibling.style.display='block';this.style.display='none';\">Display W&B run</button><iframe src=\"https://wandb.ai/fischly/MNIST/runs/33mrzhwo?jupyter=true\" style=\"border:none;width:100%;height:420px;display:none;\"></iframe>"
      ],
      "text/plain": [
       "<wandb.sdk.wandb_run.Run at 0x208066355d0>"
      ]
     },
     "execution_count": 6,
     "metadata": {},
     "output_type": "execute_result"
    }
   ],
   "source": [
    "import wandb\n",
    "\n",
    "wandb.init(project='MNIST', dir='C:/temp/wandb', config={\n",
    "    'num-epochs': num_epochs,\n",
    "    'learning-rate': learning_rate,\n",
    "    'batch-size': batch_size,\n",
    "    'momentum': momentum\n",
    "})"
   ]
  },
  {
   "cell_type": "markdown",
   "metadata": {},
   "source": [
    "## MLP\n",
    "\n",
    "### Define model architecture\n",
    "You need to reach at least 70% accuracy on the test set"
   ]
  },
  {
   "cell_type": "code",
   "execution_count": 10,
   "metadata": {
    "tags": []
   },
   "outputs": [],
   "source": [
    "def init_linear_layer(m, method):\n",
    "    torch.nn.init.xavier_normal_(m.weight, nn.init.calculate_gain(method))\n",
    "    torch.nn.init.constant_(m.bias, 0)\n",
    "    return m\n",
    "\n",
    "\n",
    "class Net(nn.Module):\n",
    "    def __init__(self):\n",
    "        super(Net, self).__init__()\n",
    "        \n",
    "        self.relu = nn.ReLU()\n",
    "        self.tanh = nn.Tanh()\n",
    "        \n",
    "        self.conv1 = nn.Conv2d(in_channels=1, out_channels=16, kernel_size=5)\n",
    "        self.pool1 = nn.MaxPool2d(kernel_size=2)\n",
    "        \n",
    "        self.conv2 = nn.Conv2d(in_channels=16, out_channels=24, kernel_size=3)\n",
    "        self.pool2 = nn.MaxPool2d(kernel_size=2)\n",
    "        \n",
    "        self.ln1 = init_linear_layer(nn.Linear(600, 400), 'relu')\n",
    "        self.ln2 = init_linear_layer(nn.Linear(400, 10), 'linear')\n",
    "        \n",
    "        self.softmax = nn.Softmax(dim=1)\n",
    "        \n",
    "        self.dropout1 = nn.Dropout2d(0.2)\n",
    "        self.dropout2 = nn.Dropout(0.5)\n",
    "\n",
    "    def forward(self, x):\n",
    "        x = self.conv1(x)\n",
    "        x = self.relu(x)\n",
    "        x = self.pool1(x)\n",
    "        \n",
    "        x = self.conv2(x)\n",
    "        x = self.relu(x)\n",
    "        x = self.pool2(x)\n",
    "        \n",
    "        x = x.reshape((x.shape[0], -1))\n",
    "        \n",
    "        x = self.ln1(x)\n",
    "        x = self.relu(x)\n",
    "        x = self.dropout2(x)\n",
    "        x = self.ln2(x)\n",
    "        \n",
    "        return self.softmax(x)"
   ]
  },
  {
   "cell_type": "markdown",
   "metadata": {},
   "source": [
    "### Init the model and put it on GPU"
   ]
  },
  {
   "cell_type": "code",
   "execution_count": 12,
   "metadata": {
    "tags": []
   },
   "outputs": [
    {
     "name": "stderr",
     "output_type": "stream",
     "text": [
      "\u001b[34m\u001b[1mwandb\u001b[0m: logging graph, to disable use `wandb.watch(log_graph=False)`\n"
     ]
    },
    {
     "data": {
      "text/plain": [
       "[<wandb.wandb_torch.TorchGraph at 0x20806702dd0>]"
      ]
     },
     "execution_count": 12,
     "metadata": {},
     "output_type": "execute_result"
    }
   ],
   "source": [
    "net = Net()\n",
    "loss = nn.BCELoss() #  nn.NLLLoss()\n",
    "optimizer = torch.optim.SGD(net.parameters(), lr=learning_rate, momentum=momentum)\n",
    "\n",
    "net.to('cuda')\n",
    "\n",
    "net.train()\n",
    "\n",
    "wandb.watch(net, log='all', criterion=loss, log_freq=8,  log_graph=(True))"
   ]
  },
  {
   "cell_type": "markdown",
   "metadata": {},
   "source": [
    "### Training loop\n",
    "Log the accuracy and the loss to wandb"
   ]
  },
  {
   "cell_type": "code",
   "execution_count": 13,
   "metadata": {},
   "outputs": [
    {
     "name": "stdout",
     "output_type": "stream",
     "text": [
      "epoch: 0, accuracy: 0.7235714285714285, validation_loss: 9.397342085838318\n",
      "epoch: 1, accuracy: 0.8597619047619047, validation_loss: 5.108422372490168\n",
      "epoch: 2, accuracy: 0.8971428571428571, validation_loss: 3.7653157897293568\n",
      "epoch: 3, accuracy: 0.9160714285714285, validation_loss: 3.1921010743826628\n",
      "epoch: 4, accuracy: 0.9242857142857143, validation_loss: 2.8304641284048557\n",
      "epoch: 5, accuracy: 0.9319047619047619, validation_loss: 2.4979544207453728\n",
      "epoch: 6, accuracy: 0.9415476190476191, validation_loss: 2.266569184139371\n",
      "epoch: 7, accuracy: 0.9473809523809524, validation_loss: 2.05205200612545\n",
      "epoch: 8, accuracy: 0.949047619047619, validation_loss: 1.9929645154625177\n",
      "epoch: 9, accuracy: 0.9483333333333334, validation_loss: 1.9018743643537164\n",
      "epoch: 10, accuracy: 0.9558333333333333, validation_loss: 1.7044041007757187\n",
      "epoch: 11, accuracy: 0.958452380952381, validation_loss: 1.6836060853675008\n",
      "epoch: 12, accuracy: 0.9588095238095238, validation_loss: 1.6377075798809528\n",
      "epoch: 13, accuracy: 0.9598809523809524, validation_loss: 1.5368182584643364\n",
      "epoch: 14, accuracy: 0.9630952380952381, validation_loss: 1.4526724950410426\n",
      "epoch: 15, accuracy: 0.9626190476190476, validation_loss: 1.4957029856741428\n",
      "epoch: 16, accuracy: 0.9617857142857142, validation_loss: 1.4336250270716846\n",
      "epoch: 17, accuracy: 0.9645238095238096, validation_loss: 1.386918277014047\n",
      "epoch: 18, accuracy: 0.9692857142857143, validation_loss: 1.2515529366210103\n",
      "epoch: 19, accuracy: 0.9673809523809523, validation_loss: 1.3068662276491523\n",
      "epoch: 20, accuracy: 0.9686904761904762, validation_loss: 1.241295943967998\n",
      "epoch: 21, accuracy: 0.968452380952381, validation_loss: 1.2262694803066552\n",
      "epoch: 22, accuracy: 0.9696428571428571, validation_loss: 1.1799008827656507\n",
      "epoch: 23, accuracy: 0.9719047619047619, validation_loss: 1.1600135103799403\n",
      "epoch: 24, accuracy: 0.9729761904761904, validation_loss: 1.1049320823512971\n",
      "epoch: 25, accuracy: 0.9716666666666667, validation_loss: 1.107612380757928\n",
      "epoch: 26, accuracy: 0.9720238095238095, validation_loss: 1.1052813765127212\n",
      "epoch: 27, accuracy: 0.9733333333333334, validation_loss: 1.0355702880769968\n",
      "epoch: 28, accuracy: 0.9719047619047619, validation_loss: 1.123640512349084\n",
      "epoch: 29, accuracy: 0.975, validation_loss: 0.9928240817971528\n",
      "epoch: 30, accuracy: 0.9732142857142857, validation_loss: 1.0521401013247669\n",
      "epoch: 31, accuracy: 0.9745238095238096, validation_loss: 1.0253821418154985\n",
      "epoch: 32, accuracy: 0.9736904761904762, validation_loss: 1.0419397770892829\n",
      "epoch: 33, accuracy: 0.9732142857142857, validation_loss: 0.989932653028518\n",
      "epoch: 34, accuracy: 0.9741666666666666, validation_loss: 1.0005234788404778\n",
      "epoch: 35, accuracy: 0.9763095238095238, validation_loss: 1.0062878031749278\n",
      "epoch: 36, accuracy: 0.9760714285714286, validation_loss: 0.8993946677073836\n",
      "epoch: 37, accuracy: 0.975, validation_loss: 0.9420121603179723\n",
      "epoch: 38, accuracy: 0.9753571428571428, validation_loss: 0.9413326601497829\n",
      "epoch: 39, accuracy: 0.9779761904761904, validation_loss: 0.9001566597726196\n",
      "epoch: 40, accuracy: 0.9759523809523809, validation_loss: 0.9283614289015532\n",
      "epoch: 41, accuracy: 0.9771428571428571, validation_loss: 0.8696431827265769\n",
      "epoch: 42, accuracy: 0.9766666666666667, validation_loss: 0.8814622503705323\n",
      "epoch: 43, accuracy: 0.975, validation_loss: 0.9716268938500434\n",
      "epoch: 44, accuracy: 0.9785714285714285, validation_loss: 0.8349621829111129\n",
      "epoch: 45, accuracy: 0.9767857142857143, validation_loss: 0.9203122737817466\n",
      "epoch: 46, accuracy: 0.9798809523809524, validation_loss: 0.8434366774745286\n",
      "epoch: 47, accuracy: 0.9791666666666666, validation_loss: 0.834803621750325\n",
      "epoch: 48, accuracy: 0.9767857142857143, validation_loss: 0.879830070072785\n",
      "epoch: 49, accuracy: 0.9785714285714285, validation_loss: 0.8465105895884335\n",
      "epoch: 50, accuracy: 0.9782142857142857, validation_loss: 0.8401437483262271\n",
      "epoch: 51, accuracy: 0.9776190476190476, validation_loss: 0.8803544968832284\n",
      "epoch: 52, accuracy: 0.9795238095238096, validation_loss: 0.8022980403038673\n",
      "epoch: 53, accuracy: 0.98, validation_loss: 0.8112545649055392\n",
      "epoch: 54, accuracy: 0.9795238095238096, validation_loss: 0.7820491539314389\n",
      "epoch: 55, accuracy: 0.9795238095238096, validation_loss: 0.8392972311703488\n",
      "epoch: 56, accuracy: 0.981547619047619, validation_loss: 0.7351619793334976\n",
      "epoch: 57, accuracy: 0.9783333333333334, validation_loss: 0.8174552607815713\n",
      "epoch: 58, accuracy: 0.9808333333333333, validation_loss: 0.788579861051403\n",
      "epoch: 59, accuracy: 0.9788095238095238, validation_loss: 0.8213503872975707\n",
      "epoch: 60, accuracy: 0.9776190476190476, validation_loss: 0.8169120890088379\n",
      "epoch: 61, accuracy: 0.9795238095238096, validation_loss: 0.8486250704154372\n",
      "epoch: 62, accuracy: 0.9801190476190477, validation_loss: 0.7912973095662892\n",
      "epoch: 63, accuracy: 0.9809523809523809, validation_loss: 0.7767173387110233\n",
      "epoch: 64, accuracy: 0.9813095238095239, validation_loss: 0.7579982636962086\n",
      "epoch: 65, accuracy: 0.9811904761904762, validation_loss: 0.7686270496342331\n",
      "epoch: 66, accuracy: 0.98, validation_loss: 0.7650576855521649\n",
      "epoch: 67, accuracy: 0.9823809523809524, validation_loss: 0.7691313809482381\n",
      "epoch: 68, accuracy: 0.979047619047619, validation_loss: 0.8463193542556837\n",
      "epoch: 69, accuracy: 0.9821428571428571, validation_loss: 0.7457101385225542\n",
      "epoch: 70, accuracy: 0.9817857142857143, validation_loss: 0.7682859404012561\n",
      "epoch: 71, accuracy: 0.9805952380952381, validation_loss: 0.8040362795582041\n",
      "epoch: 72, accuracy: 0.9811904761904762, validation_loss: 0.6977955313632265\n",
      "epoch: 73, accuracy: 0.9802380952380952, validation_loss: 0.7788949992973357\n",
      "epoch: 74, accuracy: 0.9810714285714286, validation_loss: 0.7495253031374887\n",
      "epoch: 75, accuracy: 0.9827380952380952, validation_loss: 0.7180153549998067\n",
      "epoch: 76, accuracy: 0.9810714285714286, validation_loss: 0.7453886866569519\n",
      "epoch: 77, accuracy: 0.9813095238095239, validation_loss: 0.7969477662700228\n",
      "epoch: 78, accuracy: 0.9810714285714286, validation_loss: 0.7665469694184139\n",
      "epoch: 79, accuracy: 0.981904761904762, validation_loss: 0.6993859977228567\n",
      "epoch: 80, accuracy: 0.9811904761904762, validation_loss: 0.7662235636962578\n",
      "epoch: 81, accuracy: 0.9811904761904762, validation_loss: 0.7531488921958953\n",
      "epoch: 82, accuracy: 0.9830952380952381, validation_loss: 0.7268988495925441\n",
      "epoch: 83, accuracy: 0.9801190476190477, validation_loss: 0.7695702900527976\n",
      "epoch: 84, accuracy: 0.9810714285714286, validation_loss: 0.7749678093241528\n",
      "epoch: 85, accuracy: 0.9840476190476191, validation_loss: 0.6834439156809822\n",
      "epoch: 86, accuracy: 0.9826190476190476, validation_loss: 0.7250988577725366\n",
      "epoch: 87, accuracy: 0.9821428571428571, validation_loss: 0.7668407964520156\n",
      "epoch: 88, accuracy: 0.9822619047619048, validation_loss: 0.7145049342652783\n",
      "epoch: 89, accuracy: 0.9823809523809524, validation_loss: 0.7023334525292739\n",
      "epoch: 90, accuracy: 0.9816666666666667, validation_loss: 0.783373391837813\n",
      "epoch: 91, accuracy: 0.9826190476190476, validation_loss: 0.7241032984456979\n",
      "epoch: 92, accuracy: 0.9822619047619048, validation_loss: 0.7438737641787156\n",
      "epoch: 93, accuracy: 0.9830952380952381, validation_loss: 0.7267410235363059\n",
      "epoch: 94, accuracy: 0.9828571428571429, validation_loss: 0.7089031810173765\n",
      "epoch: 95, accuracy: 0.981904761904762, validation_loss: 0.7325678630149923\n",
      "epoch: 96, accuracy: 0.9808333333333333, validation_loss: 0.7267406104656402\n",
      "epoch: 97, accuracy: 0.9825, validation_loss: 0.7421129125868902\n",
      "epoch: 98, accuracy: 0.9825, validation_loss: 0.7072070903959684\n",
      "epoch: 99, accuracy: 0.9835714285714285, validation_loss: 0.6754514914937317\n"
     ]
    },
    {
     "data": {
      "text/plain": [
       "<AxesSubplot:xlabel='epoch', ylabel='accuracy'>"
      ]
     },
     "execution_count": 13,
     "metadata": {},
     "output_type": "execute_result"
    },
    {
     "data": {
      "image/png": "[encoded data removed]",
      "text/plain": [
       "<Figure size 432x288 with 1 Axes>"
      ]
     },
     "metadata": {
      "needs_background": "light"
     },
     "output_type": "display_data"
    }
   ],
   "source": [
    "epoch_losses = []\n",
    "\n",
    "for epoch in range(num_epochs):\n",
    "    training_loss = 0\n",
    "    \n",
    "    # ======== TRAINING ========\n",
    "    for (X, y) in train_dataloader:\n",
    "        y_hat = net(X.reshape((-1, 1, 28, 28)))\n",
    "        l = loss(y_hat, y)  # torch.argmax(y, dim=1))\n",
    "        \n",
    "        optimizer.zero_grad()\n",
    "        l.backward()\n",
    "        optimizer.step()\n",
    "        \n",
    "        training_loss += l.item()\n",
    "        \n",
    "    # ======== VALIDATION ========\n",
    "    validation_loss = 0\n",
    "    validation_counter = 0\n",
    "    correct_counter = 0\n",
    "    with torch.no_grad():\n",
    "        for (X, y) in validation_dataloader:\n",
    "            y_hat = net(X.reshape((-1, 1, 28, 28)))\n",
    "            l = loss(y_hat, y) #  torch.argmax(y, dim=1))\n",
    "            \n",
    "            validation_loss += l.item()\n",
    "            \n",
    "            num_correct = (torch.argmax(y_hat, dim=1) == torch.argmax(y, dim=1)).sum()\n",
    "            \n",
    "            validation_counter += len(y)\n",
    "            correct_counter += num_correct.item()\n",
    "    \n",
    "    print(f'epoch: {epoch}, accuracy: {correct_counter/validation_counter}, validation_loss: {validation_loss}')\n",
    "    epoch_losses.append({'epoch': epoch, 'trainloss': training_loss, 'valloss': validation_loss, 'accuracy': correct_counter/validation_counter})\n",
    "    wandb.log({'epoch': epoch, 'training_loss': training_loss, 'validation_loss': validation_loss, 'accuracy': correct_counter/validation_counter})\n",
    "\n",
    "\n",
    "torch.save(net.state_dict(), f'models/model-1.pt')\n",
    "\n",
    "sns.lineplot(data=pd.DataFrame(epoch_losses), x='epoch', y='accuracy')"
   ]
  },
  {
   "cell_type": "markdown",
   "metadata": {},
   "source": [
    "### Make prediction\n",
    "And submit to Kaggle for grading"
   ]
  },
  {
   "cell_type": "code",
   "execution_count": 14,
   "metadata": {
    "tags": []
   },
   "outputs": [],
   "source": [
    "with torch.no_grad():\n",
    "    net.eval()\n",
    "    \n",
    "    test_pred = torch.LongTensor()\n",
    "    for i, data in enumerate(test_dataloader):\n",
    "        y_hat = net(data.reshape((-1, 1, 28, 28)))\n",
    "        predicted = torch.argmax(y_hat, dim=1)\n",
    "        \n",
    "        predicted = predicted.cpu()\n",
    "        test_pred = torch.cat((test_pred, predicted), dim=0)\n",
    "    out_df = pd.DataFrame(np.c_[np.arange(1, len(test_dataset)+1)[:,None], test_pred.numpy()], columns=['ImageId', 'Label'])\n",
    "    out_df.to_csv('submission.csv', index=False)"
   ]
  },
  {
   "cell_type": "markdown",
   "metadata": {},
   "source": [
    "### 10 most misclafficied image"
   ]
  },
  {
   "cell_type": "code",
   "execution_count": 15,
   "metadata": {},
   "outputs": [
    {
     "data": {
      "text/plain": [
       "tensor([30267, 31851, 30190,  8291, 33102, 27799, 33569, 30742, 10387,  2319])"
      ]
     },
     "execution_count": 15,
     "metadata": {},
     "output_type": "execute_result"
    }
   ],
   "source": [
    "import matplotlib.pyplot as plt\n",
    "\n",
    "top_ten_misclassified = 0\n",
    "unshuffle_train_loader = DataLoader(train_subset, batch_size=batch_size, shuffle=False)\n",
    "\n",
    "with torch.no_grad():\n",
    "    net.eval()\n",
    "    missclasified = torch.DoubleTensor()\n",
    "    for batch_idx, (data, target) in enumerate(unshuffle_train_loader):\n",
    "        y_hat = net(data.reshape((-1, 1, 28, 28)))\n",
    "        prob, predicted = torch.max(y_hat, 1)\n",
    "        \n",
    "        # print(prob)\n",
    "        # print(torch.min(prob))\n",
    "        # print(torch.argmin(prob))\n",
    "        # print('predicted', predicted)\n",
    "        \n",
    "        \n",
    "        predicted = predicted.cpu()\n",
    "        target = torch.argmax(target, dim=1).cpu()\n",
    "        prob = prob.cpu().double()\n",
    "        \n",
    "        # print('target', target)\n",
    "        \n",
    "        \n",
    "        \n",
    "        missclassified_prob = torch.where(predicted == target, 0., prob)\n",
    "        missclasified = torch.cat((missclasified, missclassified_prob), dim=0)\n",
    "\n",
    "    # print('missclasified', missclasified)\n",
    "    most_misclassified = torch.argsort(missclasified, descending=True)\n",
    "    # print('most_misclassified', most_misclassified)\n",
    "    top_ten_misclassified = most_misclassified[:10]\n",
    "\n",
    "top_ten_misclassified"
   ]
  },
  {
   "cell_type": "code",
   "execution_count": 16,
   "metadata": {
    "tags": []
   },
   "outputs": [
    {
     "data": {
      "image/png": "[encoded data removed]",
      "text/plain": [
       "<Figure size 432x288 with 1 Axes>"
      ]
     },
     "metadata": {
      "needs_background": "light"
     },
     "output_type": "display_data"
    },
    {
     "data": {
      "image/png": "[encoded data removed]",
      "text/plain": [
       "<Figure size 432x288 with 1 Axes>"
      ]
     },
     "metadata": {
      "needs_background": "light"
     },
     "output_type": "display_data"
    },
    {
     "data": {
      "image/png": "[encoded data removed]",
      "text/plain": [
       "<Figure size 432x288 with 1 Axes>"
      ]
     },
     "metadata": {
      "needs_background": "light"
     },
     "output_type": "display_data"
    },
    {
     "data": {
      "image/png": "[encoded data removed]",
      "text/plain": [
       "<Figure size 432x288 with 1 Axes>"
      ]
     },
     "metadata": {
      "needs_background": "light"
     },
     "output_type": "display_data"
    },
    {
     "data": {
      "image/png": "[encoded data removed]",
      "text/plain": [
       "<Figure size 432x288 with 1 Axes>"
      ]
     },
     "metadata": {
      "needs_background": "light"
     },
     "output_type": "display_data"
    },
    {
     "data": {
      "image/png": "[encoded data removed]",
      "text/plain": [
       "<Figure size 432x288 with 1 Axes>"
      ]
     },
     "metadata": {
      "needs_background": "light"
     },
     "output_type": "display_data"
    },
    {
     "data": {
      "image/png": "[encoded data removed]",
      "text/plain": [
       "<Figure size 432x288 with 1 Axes>"
      ]
     },
     "metadata": {
      "needs_background": "light"
     },
     "output_type": "display_data"
    },
    {
     "data": {
      "image/png": "[encoded data removed]",
      "text/plain": [
       "<Figure size 432x288 with 1 Axes>"
      ]
     },
     "metadata": {
      "needs_background": "light"
     },
     "output_type": "display_data"
    },
    {
     "data": {
      "image/png": "[encoded data removed]",
      "text/plain": [
       "<Figure size 432x288 with 1 Axes>"
      ]
     },
     "metadata": {
      "needs_background": "light"
     },
     "output_type": "display_data"
    },
    {
     "data": {
      "image/png": "[encoded data removed]",
      "text/plain": [
       "<Figure size 432x288 with 1 Axes>"
      ]
     },
     "metadata": {
      "needs_background": "light"
     },
     "output_type": "display_data"
    }
   ],
   "source": [
    "for misclassified in top_ten_misclassified:\n",
    "    plt.imshow(train_subset[misclassified][0].cpu().reshape(28,28))\n",
    "    with torch.no_grad():\n",
    "        data, target = train_subset[misclassified]\n",
    "        data = data.reshape(1, 28*28)\n",
    "        output = net(data.reshape((-1, 1, 28, 28)))\n",
    "        prob, predicted = torch.max(output.data, 1)\n",
    "        plt.title(f'Predicted: {predicted.item()}, Ground truth: {torch.argmax(target)}, Probs: {prob.item()}')\n",
    "    plt.show()"
   ]
  },
  {
   "cell_type": "code",
   "execution_count": null,
   "metadata": {},
   "outputs": [],
   "source": [
    "2"
   ]
  }
 ],
 "metadata": {
  "kernelspec": {
   "display_name": "Python 3 (ipykernel)",
   "language": "python",
   "name": "python3"
  },
  "language_info": {
   "codemirror_mode": {
    "name": "ipython",
    "version": 3
   },
   "file_extension": ".py",
   "mimetype": "text/x-python",
   "name": "python",
   "nbconvert_exporter": "python",
   "pygments_lexer": "ipython3",
   "version": "3.10.5"
  }
 },
 "nbformat": 4,
 "nbformat_minor": 4
}
