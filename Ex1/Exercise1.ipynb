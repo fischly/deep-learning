{
  "cells": [
    {
      "cell_type": "markdown",
      "metadata": {
        "id": "wLOYFx_WV7qx"
      },
      "source": [
        "In this notebook, you will learn how to manipulate data with Pytorch  \n",
        "Let's start by importing Pytorch"
      ]
    },
    {
      "cell_type": "code",
      "execution_count": 155,
      "metadata": {
        "id": "jRPeeaCnWGXc"
      },
      "outputs": [],
      "source": [
        "import torch"
      ]
    },
    {
      "cell_type": "markdown",
      "metadata": {
        "id": "5wT_dhlBaO-_"
      },
      "source": [
        "## Basic tensor operation"
      ]
    },
    {
      "cell_type": "code",
      "execution_count": 156,
      "metadata": {
        "colab": {
          "base_uri": "https://localhost:8080/"
        },
        "id": "I5RvMefiaVst",
        "outputId": "70db4b0d-d1dc-4140-f9ec-618489f3d78d"
      },
      "outputs": [
        {
          "output_type": "execute_result",
          "data": {
            "text/plain": [
              "tensor([[[0.0627, 0.3620],\n",
              "         [0.2407, 0.9065],\n",
              "         [0.6188, 0.2378]],\n",
              "\n",
              "        [[0.8487, 0.1538],\n",
              "         [0.7839, 0.9753],\n",
              "         [0.2453, 0.0294]],\n",
              "\n",
              "        [[0.3489, 0.8594],\n",
              "         [0.5224, 0.5241],\n",
              "         [0.2523, 0.0329]],\n",
              "\n",
              "        [[0.6125, 0.3861],\n",
              "         [0.4003, 0.7517],\n",
              "         [0.7151, 0.4329]]])"
            ]
          },
          "metadata": {},
          "execution_count": 156
        }
      ],
      "source": [
        "tensor = torch.rand((4, 3, 2))\n",
        "tensor"
      ]
    },
    {
      "cell_type": "markdown",
      "metadata": {
        "id": "T3jo7cAJafjL"
      },
      "source": [
        "Display the size of the produced tensor"
      ]
    },
    {
      "cell_type": "code",
      "execution_count": 157,
      "metadata": {
        "id": "qJdnZ9FXaiPx",
        "colab": {
          "base_uri": "https://localhost:8080/"
        },
        "outputId": "50b873d6-fb05-4642-f5b5-f4969f2b4255"
      },
      "outputs": [
        {
          "output_type": "execute_result",
          "data": {
            "text/plain": [
              "torch.Size([4, 3, 2])"
            ]
          },
          "metadata": {},
          "execution_count": 157
        }
      ],
      "source": [
        "tensor.shape # or tensor.size()"
      ]
    },
    {
      "cell_type": "markdown",
      "metadata": {
        "id": "o3lrN95Fajw9"
      },
      "source": [
        "Give the total number of elements inside the tensor"
      ]
    },
    {
      "cell_type": "code",
      "execution_count": 158,
      "metadata": {
        "id": "nGfYfyAvanDF",
        "colab": {
          "base_uri": "https://localhost:8080/"
        },
        "outputId": "72a79975-3075-45d2-afa9-61ce7a4f817f"
      },
      "outputs": [
        {
          "output_type": "execute_result",
          "data": {
            "text/plain": [
              "24"
            ]
          },
          "metadata": {},
          "execution_count": 158
        }
      ],
      "source": [
        "tensor.numel()"
      ]
    },
    {
      "cell_type": "markdown",
      "metadata": {
        "id": "2uFqXJnubMz4"
      },
      "source": [
        "Change the shape of the tensor into a 4x6 tensor"
      ]
    },
    {
      "cell_type": "code",
      "execution_count": 159,
      "metadata": {
        "id": "GH6msf3GbELC",
        "colab": {
          "base_uri": "https://localhost:8080/"
        },
        "outputId": "50fa0182-e75a-41bd-f6ac-adce0af3f843"
      },
      "outputs": [
        {
          "output_type": "execute_result",
          "data": {
            "text/plain": [
              "torch.Size([4, 6])"
            ]
          },
          "metadata": {},
          "execution_count": 159
        }
      ],
      "source": [
        "reshaped = tensor.reshape((4, 6))\n",
        "\n",
        "reshaped.shape"
      ]
    },
    {
      "cell_type": "markdown",
      "metadata": {
        "id": "mAHe3gu9bWpn"
      },
      "source": [
        "Transform a python list into a tensor"
      ]
    },
    {
      "cell_type": "code",
      "execution_count": 160,
      "metadata": {
        "id": "udKffc4ebZDh",
        "colab": {
          "base_uri": "https://localhost:8080/"
        },
        "outputId": "3227535d-aa89-4c4b-c05e-e8c5ec015e8c"
      },
      "outputs": [
        {
          "output_type": "execute_result",
          "data": {
            "text/plain": [
              "tensor([[9, 8, 7],\n",
              "        [4, 5, 6],\n",
              "        [3, 2, 1]])"
            ]
          },
          "metadata": {},
          "execution_count": 160
        }
      ],
      "source": [
        "list_to_transform = [[9, 8, 7], [4, 5, 6], [3, 2, 1]]\n",
        "\n",
        "tensor = torch.tensor(list_to_transform)\n",
        "tensor"
      ]
    },
    {
      "cell_type": "markdown",
      "metadata": {
        "id": "CAoEqdvBbwsc"
      },
      "source": [
        "## Operations on tensor"
      ]
    },
    {
      "cell_type": "code",
      "execution_count": 161,
      "metadata": {
        "colab": {
          "base_uri": "https://localhost:8080/"
        },
        "id": "T6JblZuQb0As",
        "outputId": "18addcc6-7809-4052-c21f-5f7e8b2e631d"
      },
      "outputs": [
        {
          "output_type": "execute_result",
          "data": {
            "text/plain": [
              "tensor([0, 1, 2, 3])"
            ]
          },
          "metadata": {},
          "execution_count": 161
        }
      ],
      "source": [
        "x = torch.arange(4)\n",
        "x"
      ]
    },
    {
      "cell_type": "markdown",
      "metadata": {
        "id": "g6xxJ_jozvzu"
      },
      "source": [
        "Add 3 to every element of the tensor, put the result in a new tensor"
      ]
    },
    {
      "cell_type": "code",
      "execution_count": 162,
      "metadata": {
        "colab": {
          "base_uri": "https://localhost:8080/"
        },
        "id": "aCkvWgdLzz-7",
        "outputId": "69c7059d-fc34-4e79-d657-05170310c801"
      },
      "outputs": [
        {
          "output_type": "stream",
          "name": "stdout",
          "text": [
            "x =  tensor([0, 1, 2, 3])\n",
            "y =  tensor([3, 4, 5, 6])\n"
          ]
        }
      ],
      "source": [
        "y = x + 3\n",
        "\n",
        "print('x = ', x)\n",
        "print('y = ', y)"
      ]
    },
    {
      "cell_type": "markdown",
      "metadata": {
        "id": "zdR5V_dR0HZ5"
      },
      "source": [
        "Multiply by 3 the tensor x, put the result in a new tensor"
      ]
    },
    {
      "cell_type": "code",
      "execution_count": 163,
      "metadata": {
        "colab": {
          "base_uri": "https://localhost:8080/"
        },
        "id": "w7e_wr830Oum",
        "outputId": "3bb5c928-8d0b-41a4-fe38-74453a446df8"
      },
      "outputs": [
        {
          "output_type": "execute_result",
          "data": {
            "text/plain": [
              "tensor([0, 3, 6, 9])"
            ]
          },
          "metadata": {},
          "execution_count": 163
        }
      ],
      "source": [
        "y = x * 3\n",
        "y"
      ]
    },
    {
      "cell_type": "markdown",
      "metadata": {
        "id": "iERh31GW0vEb"
      },
      "source": [
        "Put every element of x to the power of 3"
      ]
    },
    {
      "cell_type": "code",
      "execution_count": 164,
      "metadata": {
        "colab": {
          "base_uri": "https://localhost:8080/"
        },
        "id": "YGXcbJ2e1hOe",
        "outputId": "b2687c0f-d174-4c18-c1ec-c6555f0a5c5a"
      },
      "outputs": [
        {
          "output_type": "execute_result",
          "data": {
            "text/plain": [
              "tensor([ 0,  1,  8, 27])"
            ]
          },
          "metadata": {},
          "execution_count": 164
        }
      ],
      "source": [
        "y = x**3\n",
        "y"
      ]
    },
    {
      "cell_type": "markdown",
      "metadata": {
        "id": "FwPcIgjY13uN"
      },
      "source": [
        "Multiply x with k"
      ]
    },
    {
      "cell_type": "code",
      "execution_count": 165,
      "metadata": {
        "colab": {
          "base_uri": "https://localhost:8080/"
        },
        "id": "Df9Nz6Cg1xxz",
        "outputId": "4139c034-a360-4c2d-f1eb-ffa05f06a7be"
      },
      "outputs": [
        {
          "output_type": "execute_result",
          "data": {
            "text/plain": [
              "tensor([ 0.,  7., 10.,  3.])"
            ]
          },
          "metadata": {},
          "execution_count": 165
        }
      ],
      "source": [
        "k = torch.Tensor([8, 7, 5, 1])\n",
        "\n",
        "y = x * k\n",
        "y"
      ]
    },
    {
      "cell_type": "markdown",
      "metadata": {
        "id": "K-nAfURR3KKx"
      },
      "source": [
        "Makes x to the power of k"
      ]
    },
    {
      "cell_type": "code",
      "execution_count": 166,
      "metadata": {
        "colab": {
          "base_uri": "https://localhost:8080/"
        },
        "id": "sQTvJc_43MoY",
        "outputId": "f81b4ddb-31e6-4865-e795-6a07567e1fac"
      },
      "outputs": [
        {
          "output_type": "execute_result",
          "data": {
            "text/plain": [
              "tensor([ 0.,  1., 32.,  3.])"
            ]
          },
          "metadata": {},
          "execution_count": 166
        }
      ],
      "source": [
        "y = x**k\n",
        "y"
      ]
    },
    {
      "cell_type": "markdown",
      "metadata": {
        "id": "b4aYqWoQ3WIr"
      },
      "source": [
        "Put every element of x to exponential"
      ]
    },
    {
      "cell_type": "code",
      "execution_count": 167,
      "metadata": {
        "colab": {
          "base_uri": "https://localhost:8080/"
        },
        "id": "0fPWg6bG4M8E",
        "outputId": "7435852e-f18f-4a43-9c92-cf2fbfaf66c4"
      },
      "outputs": [
        {
          "output_type": "execute_result",
          "data": {
            "text/plain": [
              "tensor([ 1.0000,  2.7183,  7.3891, 20.0855])"
            ]
          },
          "metadata": {},
          "execution_count": 167
        }
      ],
      "source": [
        "y = torch.exp(x)\n",
        "y"
      ]
    },
    {
      "cell_type": "markdown",
      "metadata": {
        "id": "XaXLktzp-b6d"
      },
      "source": [
        "Perform the element wise product of `a` and `b`"
      ]
    },
    {
      "cell_type": "code",
      "execution_count": 168,
      "metadata": {
        "colab": {
          "base_uri": "https://localhost:8080/"
        },
        "id": "H4gFleXP-ba9",
        "outputId": "fbb9fb4f-bf98-4efc-b00f-7697294edb8d"
      },
      "outputs": [
        {
          "output_type": "execute_result",
          "data": {
            "text/plain": [
              "tensor([0.6429, 0.0410, 0.0062, 0.3311, 0.0078])"
            ]
          },
          "metadata": {},
          "execution_count": 168
        }
      ],
      "source": [
        "a = torch.rand((5))\n",
        "b = torch.rand((5))\n",
        "\n",
        "y = a * b\n",
        "y"
      ]
    },
    {
      "cell_type": "markdown",
      "metadata": {
        "id": "eOdJAPCd9OAc"
      },
      "source": [
        "Perform the dot product of `a` and `b`"
      ]
    },
    {
      "cell_type": "code",
      "execution_count": 169,
      "metadata": {
        "colab": {
          "base_uri": "https://localhost:8080/"
        },
        "id": "pY1H8MX5Ag5t",
        "outputId": "ad49f1d1-424b-4ad9-9d91-f73d990446a7"
      },
      "outputs": [
        {
          "output_type": "execute_result",
          "data": {
            "text/plain": [
              "tensor(1.0289)"
            ]
          },
          "metadata": {},
          "execution_count": 169
        }
      ],
      "source": [
        "y = torch.dot(a, b)\n",
        "y"
      ]
    },
    {
      "cell_type": "markdown",
      "metadata": {
        "id": "Ua2Dg_M8XSYr"
      },
      "source": [
        "Sum along the column axis of `l`"
      ]
    },
    {
      "cell_type": "code",
      "execution_count": 170,
      "metadata": {
        "pycharm": {
          "name": "#%%\n"
        },
        "colab": {
          "base_uri": "https://localhost:8080/"
        },
        "id": "SIgqjYKbXSYr",
        "outputId": "da1b7a5e-b13c-4be7-8585-b86280e63c4b"
      },
      "outputs": [
        {
          "output_type": "execute_result",
          "data": {
            "text/plain": [
              "tensor([[[1.4400, 1.0100, 2.0576, 1.9024, 1.4904, 1.7117]],\n",
              "\n",
              "        [[1.1935, 0.9887, 1.6705, 0.5578, 0.3832, 1.5845]],\n",
              "\n",
              "        [[2.1309, 2.0616, 1.8412, 0.9616, 1.8018, 0.6579]],\n",
              "\n",
              "        [[1.5291, 2.5995, 1.4118, 1.1597, 1.8950, 1.6581]],\n",
              "\n",
              "        [[1.7023, 1.6271, 0.1694, 1.5283, 0.8321, 1.9317]]])"
            ]
          },
          "metadata": {},
          "execution_count": 170
        }
      ],
      "source": [
        "l = torch.rand((5, 3, 6))\n",
        "l.sum(dim=1, keepdim=True)\n",
        "\n",
        "#l = torch.arange(5*3*6).reshape((5,3,6))\n",
        "#for i in range(3):\n",
        "#  print('\\ndim = {}'.format(i))\n",
        "#  summed = l.sum(dim=i, keepdim=True)\n",
        "#  print(summed.shape)\n",
        "#  print(summed)"
      ]
    },
    {
      "cell_type": "markdown",
      "metadata": {
        "id": "m8__FteD5AUJ"
      },
      "source": [
        "## Slicing\n",
        "\n",
        "Display the 3 last element of x"
      ]
    },
    {
      "cell_type": "code",
      "execution_count": 171,
      "metadata": {
        "id": "lU4kjKNh5CTw",
        "colab": {
          "base_uri": "https://localhost:8080/"
        },
        "outputId": "5b842d09-e90e-4263-ccbd-e7412619d55f"
      },
      "outputs": [
        {
          "output_type": "execute_result",
          "data": {
            "text/plain": [
              "tensor([1, 2, 3])"
            ]
          },
          "metadata": {},
          "execution_count": 171
        }
      ],
      "source": [
        "x[-3:]"
      ]
    },
    {
      "cell_type": "markdown",
      "metadata": {
        "id": "F4o9hAOg6ZB-"
      },
      "source": [
        "Display the last element of x"
      ]
    },
    {
      "cell_type": "code",
      "execution_count": 172,
      "metadata": {
        "id": "X6Sdkmj665HN",
        "colab": {
          "base_uri": "https://localhost:8080/"
        },
        "outputId": "e55b61de-1058-40d2-f783-d0a2e06ec0ef"
      },
      "outputs": [
        {
          "output_type": "execute_result",
          "data": {
            "text/plain": [
              "tensor(3)"
            ]
          },
          "metadata": {},
          "execution_count": 172
        }
      ],
      "source": [
        "x[-1]"
      ]
    },
    {
      "cell_type": "markdown",
      "metadata": {
        "id": "NNGTJgrr6b71"
      },
      "source": [
        "Display the element of m, by step of 2"
      ]
    },
    {
      "cell_type": "code",
      "execution_count": 173,
      "metadata": {
        "id": "37z91f576f1F",
        "colab": {
          "base_uri": "https://localhost:8080/"
        },
        "outputId": "954058e0-ae06-4071-9d54-b58bda923847"
      },
      "outputs": [
        {
          "output_type": "execute_result",
          "data": {
            "text/plain": [
              "tensor([ 0,  2,  4,  6,  8, 10, 12, 14, 16])"
            ]
          },
          "metadata": {},
          "execution_count": 173
        }
      ],
      "source": [
        "m = torch.arange(18)\n",
        "\n",
        "m[::2] # = m[0::2] = m[0:-1:2]"
      ]
    },
    {
      "cell_type": "markdown",
      "metadata": {
        "id": "b5NKNR6G-DK9"
      },
      "source": [
        "Print only the first 2 rows of `matrix`"
      ]
    },
    {
      "cell_type": "code",
      "execution_count": 174,
      "metadata": {
        "id": "5rRaM9RI-KfK",
        "colab": {
          "base_uri": "https://localhost:8080/"
        },
        "outputId": "237203e7-0e83-4cb0-c33e-c0c5cfd3aa95"
      },
      "outputs": [
        {
          "output_type": "execute_result",
          "data": {
            "text/plain": [
              "tensor([[[ 0,  1],\n",
              "         [ 2,  3],\n",
              "         [ 4,  5],\n",
              "         [ 6,  7]],\n",
              "\n",
              "        [[ 8,  9],\n",
              "         [10, 11],\n",
              "         [12, 13],\n",
              "         [14, 15]]])"
            ]
          },
          "metadata": {},
          "execution_count": 174
        }
      ],
      "source": [
        "matrix = torch.arange(6*4*2).reshape(6,4,2) #torch.rand((6, 4, 2))\n",
        "\n",
        "matrix[0:2]"
      ]
    },
    {
      "cell_type": "markdown",
      "metadata": {
        "id": "UYDhWFDb-SYc"
      },
      "source": [
        "Now, only print the first 2 columns of `matrix`"
      ]
    },
    {
      "cell_type": "code",
      "execution_count": 175,
      "metadata": {
        "id": "vtX9urXm-XT7",
        "colab": {
          "base_uri": "https://localhost:8080/"
        },
        "outputId": "bc80441f-3483-4703-8648-5ecf2eef0525"
      },
      "outputs": [
        {
          "output_type": "execute_result",
          "data": {
            "text/plain": [
              "tensor([[[ 0,  1],\n",
              "         [ 2,  3]],\n",
              "\n",
              "        [[ 8,  9],\n",
              "         [10, 11]],\n",
              "\n",
              "        [[16, 17],\n",
              "         [18, 19]],\n",
              "\n",
              "        [[24, 25],\n",
              "         [26, 27]],\n",
              "\n",
              "        [[32, 33],\n",
              "         [34, 35]],\n",
              "\n",
              "        [[40, 41],\n",
              "         [42, 43]]])"
            ]
          },
          "metadata": {},
          "execution_count": 175
        }
      ],
      "source": [
        "matrix[:,0:2]"
      ]
    }
  ],
  "metadata": {
    "colab": {
      "collapsed_sections": [],
      "provenance": []
    },
    "kernelspec": {
      "display_name": "Python 3",
      "language": "python",
      "name": "python3"
    },
    "language_info": {
      "codemirror_mode": {
        "name": "ipython",
        "version": 3
      },
      "file_extension": ".py",
      "mimetype": "text/x-python",
      "name": "python",
      "nbconvert_exporter": "python",
      "pygments_lexer": "ipython3",
      "version": "3.8.5"
    }
  },
  "nbformat": 4,
  "nbformat_minor": 0
}