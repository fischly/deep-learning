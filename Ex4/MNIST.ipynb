{
 "cells": [
  {
   "cell_type": "markdown",
   "metadata": {},
   "source": [
    "Kaggle competition: https://www.kaggle.com/c/digit-recognizer/"
   ]
  },
  {
   "cell_type": "markdown",
   "metadata": {},
   "source": [
    "We need to import Torch's libraries"
   ]
  },
  {
   "cell_type": "code",
   "execution_count": 43,
   "metadata": {
    "tags": []
   },
   "outputs": [],
   "source": [
    "import numpy as np # linear algebra\n",
    "import pandas as pd # data processing, CSV file I/O (e.g. pd.read_csv)\n",
    "\n",
    "import seaborn as sns\n",
    "\n",
    "import torchvision\n",
    "import torch\n",
    "import torch.nn as nn\n",
    "import torch.nn.functional as F\n",
    "import torch.optim as optim\n",
    "from torchvision import transforms\n",
    "from torch.utils.data import DataLoader, Dataset"
   ]
  },
  {
   "cell_type": "markdown",
   "metadata": {},
   "source": [
    "## Data preparation\n",
    "\n",
    "A custom dataset which uses the CSV from Kaggle, avoid downloading the dataset from internet"
   ]
  },
  {
   "cell_type": "markdown",
   "metadata": {
    "tags": []
   },
   "source": [
    "### Hyperparams"
   ]
  },
  {
   "cell_type": "code",
   "execution_count": 44,
   "metadata": {
    "tags": []
   },
   "outputs": [],
   "source": [
    "# hyperparams\n",
    "num_epochs = 100\n",
    "batch_size = 128\n",
    "learning_rate = 2e-2\n",
    "momentum = 0.2"
   ]
  },
  {
   "cell_type": "code",
   "execution_count": 46,
   "metadata": {
    "tags": []
   },
   "outputs": [],
   "source": [
    "class MyMNISTDataset(Dataset):\n",
    "    \n",
    "    def __init__(\n",
    "        self,\n",
    "        file_path,\n",
    "        test_data=False,\n",
    "        use_gpu=torch.cuda.is_available()\n",
    "    ):\n",
    "\n",
    "        # read the data\n",
    "        df = pd.read_csv(file_path)\n",
    "        # for test data we don't have any target\n",
    "        # MNIST images are 28 by 28, grey colors\n",
    "        if test_data:\n",
    "            self.X = torch.tensor(df.apply(lambda x: ((x / 255) - 0.5) * 2).values, dtype=torch.float32)\n",
    "            self.y = None\n",
    "        else:\n",
    "            self.X = torch.tensor(df.iloc[:, 1:].apply(lambda x: ((x / 255) - 0.5) * 2).values, dtype=torch.float32)\n",
    "            self.y = torch.tensor(pd.get_dummies(df['label']).values, dtype=torch.float32)\n",
    "\n",
    "        if use_gpu:\n",
    "            self.X = self.X.to('cuda')\n",
    "            if self.y is not None:\n",
    "                self.y = self.y.to('cuda')\n",
    "    \n",
    "    def __len__(self):\n",
    "        return len(self.X)\n",
    "\n",
    "    def __getitem__(self, idx):\n",
    "        if self.y is not None:\n",
    "            return self.X[idx], self.y[idx]\n",
    "        else:\n",
    "            return self.X[idx]"
   ]
  },
  {
   "cell_type": "code",
   "execution_count": 47,
   "metadata": {
    "tags": []
   },
   "outputs": [],
   "source": [
    "train_dataset = MyMNISTDataset('data/train.csv', test_data=False, use_gpu=True)\n",
    "test_dataset = MyMNISTDataset('data/test.csv', test_data=True, use_gpu=True)"
   ]
  },
  {
   "cell_type": "code",
   "execution_count": 48,
   "metadata": {},
   "outputs": [],
   "source": [
    "# split train between validation and training set\n",
    "train_size = int(0.8 * len(train_dataset))\n",
    "validation_size = len(train_dataset) - train_size\n",
    "\n",
    "# random_split creates subsets\n",
    "train_subset, validation_subset = torch.utils.data.random_split(train_dataset, [train_size, validation_size], generator=torch.Generator().manual_seed(0))\n",
    "\n",
    "# create data loaders\n",
    "train_dataloader = DataLoader(train_subset, batch_size=batch_size, shuffle=True)\n",
    "validation_dataloader = DataLoader(validation_subset, batch_size=batch_size, shuffle=True)\n",
    "test_dataloader = DataLoader(test_dataset, batch_size=batch_size, shuffle=False)"
   ]
  },
  {
   "cell_type": "markdown",
   "metadata": {
    "tags": []
   },
   "source": [
    "### WandB init"
   ]
  },
  {
   "cell_type": "code",
   "execution_count": 49,
   "metadata": {},
   "outputs": [
    {
     "data": {
      "text/html": [
       "Finishing last run (ID:26sd4xt2) before initializing another..."
      ],
      "text/plain": [
       "<IPython.core.display.HTML object>"
      ]
     },
     "metadata": {},
     "output_type": "display_data"
    },
    {
     "data": {
      "text/html": [
       "Waiting for W&B process to finish... <strong style=\"color:green\">(success).</strong>"
      ],
      "text/plain": [
       "<IPython.core.display.HTML object>"
      ]
     },
     "metadata": {},
     "output_type": "display_data"
    },
    {
     "data": {
      "text/html": [
       "<style>\n",
       "    table.wandb td:nth-child(1) { padding: 0 10px; text-align: left ; width: auto;} td:nth-child(2) {text-align: left ; width: 100%}\n",
       "    .wandb-row { display: flex; flex-direction: row; flex-wrap: wrap; justify-content: flex-start; width: 100% }\n",
       "    .wandb-col { display: flex; flex-direction: column; flex-basis: 100%; flex: 1; padding: 10px; }\n",
       "    </style>\n",
       "<div class=\"wandb-row\"><div class=\"wandb-col\"><h3>Run history:</h3><br/><table class=\"wandb\"><tr><td>accuracy</td><td>▁▄▅▅▅▅▅▇▇▇██████████████████████████████</td></tr><tr><td>epoch</td><td>▁▁▁▁▂▂▂▂▂▃▃▃▃▃▃▄▄▄▄▄▅▅▅▅▅▅▆▆▆▆▆▇▇▇▇▇▇███</td></tr><tr><td>training_loss</td><td>█▄▃▃▃▃▃▂▂▂▁▁▁▁▁▁▁▁▁▁▁▁▁▁▁▁▁▁▁▁▁▁▁▁▁▁▁▁▁▁</td></tr><tr><td>validation_loss</td><td>█▅▄▄▄▄▄▂▂▂▂▁▁▁▁▁▁▁▁▁▁▁▁▁▁▁▁▁▁▁▁▁▁▁▁▁▁▁▁▁</td></tr></table><br/></div><div class=\"wandb-col\"><h3>Run summary:</h3><br/><table class=\"wandb\"><tr><td>accuracy</td><td>0.76905</td></tr><tr><td>epoch</td><td>99</td></tr><tr><td>training_loss</td><td>-206.31691</td></tr><tr><td>validation_loss</td><td>-50.58047</td></tr></table><br/></div></div>"
      ],
      "text/plain": [
       "<IPython.core.display.HTML object>"
      ]
     },
     "metadata": {},
     "output_type": "display_data"
    },
    {
     "data": {
      "text/html": [
       "Synced <strong style=\"color:#cdcd00\">dandy-silence-15</strong>: <a href=\"https://wandb.ai/fischly/MNIST/runs/26sd4xt2\" target=\"_blank\">https://wandb.ai/fischly/MNIST/runs/26sd4xt2</a><br/>Synced 5 W&B file(s), 0 media file(s), 0 artifact file(s) and 0 other file(s)"
      ],
      "text/plain": [
       "<IPython.core.display.HTML object>"
      ]
     },
     "metadata": {},
     "output_type": "display_data"
    },
    {
     "data": {
      "text/html": [
       "Find logs at: <code>C:/temp/wandb\\wandb\\run-20221111_194942-26sd4xt2\\logs</code>"
      ],
      "text/plain": [
       "<IPython.core.display.HTML object>"
      ]
     },
     "metadata": {},
     "output_type": "display_data"
    },
    {
     "data": {
      "text/html": [
       "Successfully finished last run (ID:26sd4xt2). Initializing new run:<br/>"
      ],
      "text/plain": [
       "<IPython.core.display.HTML object>"
      ]
     },
     "metadata": {},
     "output_type": "display_data"
    },
    {
     "data": {
      "application/vnd.jupyter.widget-view+json": {
       "model_id": "8214e303b43f470aabf41704b3233921",
       "version_major": 2,
       "version_minor": 0
      },
      "text/plain": [
       "VBox(children=(Label(value='Waiting for wandb.init()...\\r'), FloatProgress(value=0.016666666666666666, max=1.0…"
      ]
     },
     "metadata": {},
     "output_type": "display_data"
    },
    {
     "data": {
      "text/html": [
       "wandb version 0.13.5 is available!  To upgrade, please run:\n",
       " $ pip install wandb --upgrade"
      ],
      "text/plain": [
       "<IPython.core.display.HTML object>"
      ]
     },
     "metadata": {},
     "output_type": "display_data"
    },
    {
     "data": {
      "text/html": [
       "Tracking run with wandb version 0.13.4"
      ],
      "text/plain": [
       "<IPython.core.display.HTML object>"
      ]
     },
     "metadata": {},
     "output_type": "display_data"
    },
    {
     "data": {
      "text/html": [
       "Run data is saved locally in <code>C:/temp/wandb\\wandb\\run-20221111_195818-2gm1yf6g</code>"
      ],
      "text/plain": [
       "<IPython.core.display.HTML object>"
      ]
     },
     "metadata": {},
     "output_type": "display_data"
    },
    {
     "data": {
      "text/html": [
       "Syncing run <strong><a href=\"https://wandb.ai/fischly/MNIST/runs/2gm1yf6g\" target=\"_blank\">mild-mountain-16</a></strong> to <a href=\"https://wandb.ai/fischly/MNIST\" target=\"_blank\">Weights & Biases</a> (<a href=\"https://wandb.me/run\" target=\"_blank\">docs</a>)<br/>"
      ],
      "text/plain": [
       "<IPython.core.display.HTML object>"
      ]
     },
     "metadata": {},
     "output_type": "display_data"
    },
    {
     "data": {
      "text/html": [
       "<button onClick=\"this.nextSibling.style.display='block';this.style.display='none';\">Display W&B run</button><iframe src=\"https://wandb.ai/fischly/MNIST/runs/2gm1yf6g?jupyter=true\" style=\"border:none;width:100%;height:420px;display:none;\"></iframe>"
      ],
      "text/plain": [
       "<wandb.sdk.wandb_run.Run at 0x1e16734fee0>"
      ]
     },
     "execution_count": 49,
     "metadata": {},
     "output_type": "execute_result"
    }
   ],
   "source": [
    "import wandb\n",
    "\n",
    "wandb.init(project='MNIST', dir='C:/temp/wandb', config={\n",
    "    'num-epochs': num_epochs,\n",
    "    'learning-rate': learning_rate,\n",
    "    'batch-size': batch_size,\n",
    "    'momentum': momentum\n",
    "})"
   ]
  },
  {
   "cell_type": "markdown",
   "metadata": {},
   "source": [
    "## MLP\n",
    "\n",
    "### Define model architecture\n",
    "You need to reach at least 70% accuracy on the test set"
   ]
  },
  {
   "cell_type": "code",
   "execution_count": 50,
   "metadata": {
    "tags": []
   },
   "outputs": [],
   "source": [
    "def init_linear_layer(m, method):\n",
    "    torch.nn.init.xavier_normal_(m.weight, nn.init.calculate_gain(method))\n",
    "    torch.nn.init.constant_(m.bias, 0)\n",
    "    return m\n",
    "\n",
    "\n",
    "class Net(nn.Module):\n",
    "    def __init__(self):\n",
    "        super(Net, self).__init__()\n",
    "        \n",
    "        self.relu = nn.ReLU()\n",
    "        self.tanh = nn.Tanh()\n",
    "        \n",
    "        self.ln1 = init_linear_layer(nn.Linear(28*28, 150), 'relu')\n",
    "        self.ln2 = init_linear_layer(nn.Linear(150, 150), 'relu')\n",
    "        self.ln3 = init_linear_layer(nn.Linear(150, 10), 'linear')\n",
    "        \n",
    "        self.softmax = nn.Softmax(dim=1)\n",
    "\n",
    "    def forward(self, x):\n",
    "        x = self.ln1(x)\n",
    "        x = self.relu(x)\n",
    "        x = self.ln2(x)\n",
    "        x = self.relu(x)\n",
    "        x = self.ln3(x)\n",
    "        \n",
    "        return self.softmax(x)"
   ]
  },
  {
   "cell_type": "markdown",
   "metadata": {},
   "source": [
    "### Init the model and put it on GPU"
   ]
  },
  {
   "cell_type": "code",
   "execution_count": 51,
   "metadata": {
    "tags": []
   },
   "outputs": [
    {
     "name": "stderr",
     "output_type": "stream",
     "text": [
      "\u001b[34m\u001b[1mwandb\u001b[0m: logging graph, to disable use `wandb.watch(log_graph=False)`\n"
     ]
    },
    {
     "data": {
      "text/plain": [
       "[<wandb.wandb_torch.TorchGraph at 0x1e166db46d0>]"
      ]
     },
     "execution_count": 51,
     "metadata": {},
     "output_type": "execute_result"
    }
   ],
   "source": [
    "net = Net()\n",
    "loss = nn.BCELoss() #  nn.NLLLoss()\n",
    "optimizer = torch.optim.SGD(net.parameters(), lr=learning_rate, momentum=momentum)\n",
    "\n",
    "net.to('cuda')\n",
    "\n",
    "net.train()\n",
    "\n",
    "wandb.watch(net, log='all', criterion=loss, log_freq=8,  log_graph=(True))"
   ]
  },
  {
   "cell_type": "markdown",
   "metadata": {},
   "source": [
    "### Training loop\n",
    "Log the accuracy and the loss to wandb"
   ]
  },
  {
   "cell_type": "code",
   "execution_count": 52,
   "metadata": {},
   "outputs": [
    {
     "name": "stdout",
     "output_type": "stream",
     "text": [
      "epoch: 0, accuracy: 0.7617857142857143, validation_loss: 8.779279053211212\n",
      "epoch: 1, accuracy: 0.8282142857142857, validation_loss: 6.291808307170868\n",
      "epoch: 2, accuracy: 0.8539285714285715, validation_loss: 5.256640996783972\n",
      "epoch: 3, accuracy: 0.8729761904761905, validation_loss: 4.696948025375605\n",
      "epoch: 4, accuracy: 0.8863095238095238, validation_loss: 4.312511954456568\n",
      "epoch: 5, accuracy: 0.8920238095238096, validation_loss: 4.076581545174122\n",
      "epoch: 6, accuracy: 0.8978571428571429, validation_loss: 3.8761087842285633\n",
      "epoch: 7, accuracy: 0.9021428571428571, validation_loss: 3.7504278868436813\n",
      "epoch: 8, accuracy: 0.9057142857142857, validation_loss: 3.6438217125833035\n",
      "epoch: 9, accuracy: 0.9071428571428571, validation_loss: 3.5323417857289314\n",
      "epoch: 10, accuracy: 0.9092857142857143, validation_loss: 3.454097479581833\n",
      "epoch: 11, accuracy: 0.9128571428571428, validation_loss: 3.321683282032609\n",
      "epoch: 12, accuracy: 0.915952380952381, validation_loss: 3.2570215947926044\n",
      "epoch: 13, accuracy: 0.9169047619047619, validation_loss: 3.238779390230775\n",
      "epoch: 14, accuracy: 0.9180952380952381, validation_loss: 3.1365511808544397\n",
      "epoch: 15, accuracy: 0.9211904761904762, validation_loss: 3.0672345627099276\n",
      "epoch: 16, accuracy: 0.9205952380952381, validation_loss: 3.036493144929409\n",
      "epoch: 17, accuracy: 0.9246428571428571, validation_loss: 2.9720587506890297\n",
      "epoch: 18, accuracy: 0.9253571428571429, validation_loss: 2.9351214598864317\n",
      "epoch: 19, accuracy: 0.9258333333333333, validation_loss: 2.880388541147113\n",
      "epoch: 20, accuracy: 0.9283333333333333, validation_loss: 2.84242126904428\n",
      "epoch: 21, accuracy: 0.9279761904761905, validation_loss: 2.8241307493299246\n",
      "epoch: 22, accuracy: 0.9301190476190476, validation_loss: 2.7897294610738754\n",
      "epoch: 23, accuracy: 0.9288095238095239, validation_loss: 2.7706077340990305\n",
      "epoch: 24, accuracy: 0.9315476190476191, validation_loss: 2.715485632419586\n",
      "epoch: 25, accuracy: 0.9311904761904762, validation_loss: 2.6783952489495277\n",
      "epoch: 26, accuracy: 0.9334523809523809, validation_loss: 2.6435147784650326\n",
      "epoch: 27, accuracy: 0.935, validation_loss: 2.614231404848397\n",
      "epoch: 28, accuracy: 0.9342857142857143, validation_loss: 2.5930492617189884\n",
      "epoch: 29, accuracy: 0.935, validation_loss: 2.549236021004617\n",
      "epoch: 30, accuracy: 0.9345238095238095, validation_loss: 2.5493874633684754\n",
      "epoch: 31, accuracy: 0.9354761904761905, validation_loss: 2.507636457681656\n",
      "epoch: 32, accuracy: 0.9360714285714286, validation_loss: 2.4697049874812365\n",
      "epoch: 33, accuracy: 0.9373809523809524, validation_loss: 2.455351771786809\n",
      "epoch: 34, accuracy: 0.9377380952380953, validation_loss: 2.4389050230383873\n",
      "epoch: 35, accuracy: 0.9383333333333334, validation_loss: 2.4081374034285545\n",
      "epoch: 36, accuracy: 0.9383333333333334, validation_loss: 2.3905761688947678\n",
      "epoch: 37, accuracy: 0.9395238095238095, validation_loss: 2.3752348460257053\n",
      "epoch: 38, accuracy: 0.9416666666666667, validation_loss: 2.3304786141961813\n",
      "epoch: 39, accuracy: 0.9413095238095238, validation_loss: 2.3208070769906044\n",
      "epoch: 40, accuracy: 0.9408333333333333, validation_loss: 2.3183723893016577\n",
      "epoch: 41, accuracy: 0.9422619047619047, validation_loss: 2.2859458830207586\n",
      "epoch: 42, accuracy: 0.9436904761904762, validation_loss: 2.243042311631143\n",
      "epoch: 43, accuracy: 0.9427380952380953, validation_loss: 2.239013777114451\n",
      "epoch: 44, accuracy: 0.9430952380952381, validation_loss: 2.245032334700227\n",
      "epoch: 45, accuracy: 0.944047619047619, validation_loss: 2.191149577498436\n",
      "epoch: 46, accuracy: 0.9451190476190476, validation_loss: 2.206545015797019\n",
      "epoch: 47, accuracy: 0.9460714285714286, validation_loss: 2.1867788759991527\n",
      "epoch: 48, accuracy: 0.9457142857142857, validation_loss: 2.1481746220961213\n",
      "epoch: 49, accuracy: 0.9471428571428572, validation_loss: 2.123956889845431\n",
      "epoch: 50, accuracy: 0.9436904761904762, validation_loss: 2.127916500903666\n",
      "epoch: 51, accuracy: 0.9478571428571428, validation_loss: 2.0991399325430393\n",
      "epoch: 52, accuracy: 0.9479761904761905, validation_loss: 2.089330604299903\n",
      "epoch: 53, accuracy: 0.9471428571428572, validation_loss: 2.0846488112583756\n",
      "epoch: 54, accuracy: 0.9483333333333334, validation_loss: 2.0600269651040435\n",
      "epoch: 55, accuracy: 0.9476190476190476, validation_loss: 2.0468650301918387\n",
      "epoch: 56, accuracy: 0.9489285714285715, validation_loss: 2.045110886916518\n",
      "epoch: 57, accuracy: 0.9477380952380953, validation_loss: 2.035019299015403\n",
      "epoch: 58, accuracy: 0.9486904761904762, validation_loss: 2.012426628731191\n",
      "epoch: 59, accuracy: 0.9515476190476191, validation_loss: 1.9858975671231747\n",
      "epoch: 60, accuracy: 0.9495238095238095, validation_loss: 2.0067282542586327\n",
      "epoch: 61, accuracy: 0.9502380952380952, validation_loss: 1.9692425215616822\n",
      "epoch: 62, accuracy: 0.950595238095238, validation_loss: 1.9646637411788106\n",
      "epoch: 63, accuracy: 0.9516666666666667, validation_loss: 1.9595102220773697\n",
      "epoch: 64, accuracy: 0.9514285714285714, validation_loss: 1.9430849235504866\n",
      "epoch: 65, accuracy: 0.9514285714285714, validation_loss: 1.9496245179325342\n",
      "epoch: 66, accuracy: 0.9523809523809523, validation_loss: 1.9173180479556322\n",
      "epoch: 67, accuracy: 0.9533333333333334, validation_loss: 1.8989335875958204\n",
      "epoch: 68, accuracy: 0.9538095238095238, validation_loss: 1.8935593338683248\n",
      "epoch: 69, accuracy: 0.9517857142857142, validation_loss: 1.8945834236219525\n",
      "epoch: 70, accuracy: 0.9535714285714286, validation_loss: 1.871694639325142\n",
      "epoch: 71, accuracy: 0.9516666666666667, validation_loss: 1.8878993084654212\n",
      "epoch: 72, accuracy: 0.9520238095238095, validation_loss: 1.8496696902438998\n",
      "epoch: 73, accuracy: 0.9536904761904762, validation_loss: 1.8642133548855782\n",
      "epoch: 74, accuracy: 0.9547619047619048, validation_loss: 1.8348835045471787\n",
      "epoch: 75, accuracy: 0.9544047619047619, validation_loss: 1.8409387413412333\n",
      "epoch: 76, accuracy: 0.954047619047619, validation_loss: 1.8331489823758602\n",
      "epoch: 77, accuracy: 0.9553571428571429, validation_loss: 1.807289115153253\n",
      "epoch: 78, accuracy: 0.9535714285714286, validation_loss: 1.8130715545266867\n",
      "epoch: 79, accuracy: 0.9546428571428571, validation_loss: 1.8202817938290536\n",
      "epoch: 80, accuracy: 0.9548809523809524, validation_loss: 1.8052377570420504\n",
      "epoch: 81, accuracy: 0.955, validation_loss: 1.782508235424757\n",
      "epoch: 82, accuracy: 0.9558333333333333, validation_loss: 1.7709773993119597\n",
      "epoch: 83, accuracy: 0.9534523809523809, validation_loss: 1.7911309879273176\n",
      "epoch: 84, accuracy: 0.9552380952380952, validation_loss: 1.7628740184009075\n",
      "epoch: 85, accuracy: 0.9557142857142857, validation_loss: 1.7612142888829112\n",
      "epoch: 86, accuracy: 0.9570238095238095, validation_loss: 1.7516701249405742\n",
      "epoch: 87, accuracy: 0.955952380952381, validation_loss: 1.7404138892889023\n",
      "epoch: 88, accuracy: 0.9561904761904761, validation_loss: 1.7507180767133832\n",
      "epoch: 89, accuracy: 0.9561904761904761, validation_loss: 1.7804476767778397\n",
      "epoch: 90, accuracy: 0.9569047619047619, validation_loss: 1.7216041255742311\n",
      "epoch: 91, accuracy: 0.9569047619047619, validation_loss: 1.7261402802541852\n",
      "epoch: 92, accuracy: 0.9579761904761904, validation_loss: 1.705750560387969\n",
      "epoch: 93, accuracy: 0.9563095238095238, validation_loss: 1.7166526722721756\n",
      "epoch: 94, accuracy: 0.9588095238095238, validation_loss: 1.7023623511195183\n",
      "epoch: 95, accuracy: 0.9575, validation_loss: 1.6881176615133882\n",
      "epoch: 96, accuracy: 0.9583333333333334, validation_loss: 1.6889671152457595\n",
      "epoch: 97, accuracy: 0.9570238095238095, validation_loss: 1.7051799735054374\n",
      "epoch: 98, accuracy: 0.9582142857142857, validation_loss: 1.6754969889298081\n",
      "epoch: 99, accuracy: 0.9589285714285715, validation_loss: 1.6860173749737442\n"
     ]
    },
    {
     "data": {
      "text/plain": [
       "<AxesSubplot:xlabel='epoch', ylabel='accuracy'>"
      ]
     },
     "execution_count": 52,
     "metadata": {},
     "output_type": "execute_result"
    },
    {
     "data": {
      "image/png": "[encoded data removed]",
      "text/plain": [
       "<Figure size 432x288 with 1 Axes>"
      ]
     },
     "metadata": {
      "needs_background": "light"
     },
     "output_type": "display_data"
    }
   ],
   "source": [
    "epoch_losses = []\n",
    "\n",
    "for epoch in range(num_epochs):\n",
    "    training_loss = 0\n",
    "    \n",
    "    # ======== TRAINING ========\n",
    "    for (X, y) in train_dataloader:\n",
    "        y_hat = net(X)\n",
    "        l = loss(y_hat, y)  # torch.argmax(y, dim=1))\n",
    "        \n",
    "        optimizer.zero_grad()\n",
    "        l.backward()\n",
    "        optimizer.step()\n",
    "        \n",
    "        training_loss += l.item()\n",
    "        \n",
    "    # ======== VALIDATION ========\n",
    "    validation_loss = 0\n",
    "    validation_counter = 0\n",
    "    correct_counter = 0\n",
    "    with torch.no_grad():\n",
    "        for (X, y) in validation_dataloader:\n",
    "            y_hat = net(X)\n",
    "            l = loss(y_hat, y) #  torch.argmax(y, dim=1))\n",
    "            \n",
    "            validation_loss += l.item()\n",
    "            \n",
    "            num_correct = (torch.argmax(y_hat, dim=1) == torch.argmax(y, dim=1)).sum()\n",
    "            \n",
    "            validation_counter += len(y)\n",
    "            correct_counter += num_correct.item()\n",
    "    \n",
    "    print(f'epoch: {epoch}, accuracy: {correct_counter/validation_counter}, validation_loss: {validation_loss}')\n",
    "    epoch_losses.append({'epoch': epoch, 'trainloss': training_loss, 'valloss': validation_loss, 'accuracy': correct_counter/validation_counter})\n",
    "    wandb.log({'epoch': epoch, 'training_loss': training_loss, 'validation_loss': validation_loss, 'accuracy': correct_counter/validation_counter})\n",
    "\n",
    "\n",
    "torch.save(net.state_dict(), f'models/model-1.pt')\n",
    "\n",
    "sns.lineplot(data=pd.DataFrame(epoch_losses), x='epoch', y='accuracy')"
   ]
  },
  {
   "cell_type": "markdown",
   "metadata": {},
   "source": [
    "### Make prediction\n",
    "And submit to Kaggle for grading"
   ]
  },
  {
   "cell_type": "code",
   "execution_count": 53,
   "metadata": {
    "tags": []
   },
   "outputs": [],
   "source": [
    "with torch.no_grad():\n",
    "    net.eval()\n",
    "    \n",
    "    test_pred = torch.LongTensor()\n",
    "    for i, data in enumerate(test_dataloader):\n",
    "        y_hat = net(data)\n",
    "        predicted = torch.argmax(y_hat, dim=1)\n",
    "        \n",
    "        predicted = predicted.cpu()\n",
    "        test_pred = torch.cat((test_pred, predicted), dim=0)\n",
    "    out_df = pd.DataFrame(np.c_[np.arange(1, len(test_dataset)+1)[:,None], test_pred.numpy()], columns=['ImageId', 'Label'])\n",
    "    out_df.to_csv('submission.csv', index=False)"
   ]
  },
  {
   "cell_type": "markdown",
   "metadata": {},
   "source": [
    "### 10 most misclafficied image"
   ]
  },
  {
   "cell_type": "code",
   "execution_count": 54,
   "metadata": {},
   "outputs": [
    {
     "data": {
      "text/plain": [
       "tensor([30267,  5588, 10771, 27549,  3996, 31851, 16642, 21101, 24569, 11347])"
      ]
     },
     "execution_count": 54,
     "metadata": {},
     "output_type": "execute_result"
    }
   ],
   "source": [
    "import matplotlib.pyplot as plt\n",
    "\n",
    "top_ten_misclassified = 0\n",
    "unshuffle_train_loader = DataLoader(train_subset, batch_size=batch_size, shuffle=False)\n",
    "\n",
    "with torch.no_grad():\n",
    "    net.eval()\n",
    "    missclasified = torch.DoubleTensor()\n",
    "    for batch_idx, (data, target) in enumerate(unshuffle_train_loader):\n",
    "        y_hat = net(data)\n",
    "        prob, predicted = torch.max(y_hat, 1)\n",
    "        \n",
    "        # print(prob)\n",
    "        # print(torch.min(prob))\n",
    "        # print(torch.argmin(prob))\n",
    "        # print('predicted', predicted)\n",
    "        \n",
    "        \n",
    "        predicted = predicted.cpu()\n",
    "        target = torch.argmax(target, dim=1).cpu()\n",
    "        prob = prob.cpu().double()\n",
    "        \n",
    "        # print('target', target)\n",
    "        \n",
    "        \n",
    "        \n",
    "        missclassified_prob = torch.where(predicted == target, 0., prob)\n",
    "        missclasified = torch.cat((missclasified, missclassified_prob), dim=0)\n",
    "\n",
    "    # print('missclasified', missclasified)\n",
    "    most_misclassified = torch.argsort(missclasified, descending=True)\n",
    "    # print('most_misclassified', most_misclassified)\n",
    "    top_ten_misclassified = most_misclassified[:10]\n",
    "\n",
    "top_ten_misclassified"
   ]
  },
  {
   "cell_type": "code",
   "execution_count": 55,
   "metadata": {
    "tags": []
   },
   "outputs": [
    {
     "data": {
      "image/png": "[encoded data removed]",
      "text/plain": [
       "<Figure size 432x288 with 1 Axes>"
      ]
     },
     "metadata": {
      "needs_background": "light"
     },
     "output_type": "display_data"
    },
    {
     "data": {
      "image/png": "[encoded data removed]",
      "text/plain": [
       "<Figure size 432x288 with 1 Axes>"
      ]
     },
     "metadata": {
      "needs_background": "light"
     },
     "output_type": "display_data"
    },
    {
     "data": {
      "image/png": "[encoded data removed]",
      "text/plain": [
       "<Figure size 432x288 with 1 Axes>"
      ]
     },
     "metadata": {
      "needs_background": "light"
     },
     "output_type": "display_data"
    },
    {
     "data": {
      "image/png": "[encoded data removed]",
      "text/plain": [
       "<Figure size 432x288 with 1 Axes>"
      ]
     },
     "metadata": {
      "needs_background": "light"
     },
     "output_type": "display_data"
    },
    {
     "data": {
      "image/png": "[encoded data removed]",
      "text/plain": [
       "<Figure size 432x288 with 1 Axes>"
      ]
     },
     "metadata": {
      "needs_background": "light"
     },
     "output_type": "display_data"
    },
    {
     "data": {
      "image/png": "[encoded data removed]",
      "text/plain": [
       "<Figure size 432x288 with 1 Axes>"
      ]
     },
     "metadata": {
      "needs_background": "light"
     },
     "output_type": "display_data"
    },
    {
     "data": {
      "image/png": "[encoded data removed]",
      "text/plain": [
       "<Figure size 432x288 with 1 Axes>"
      ]
     },
     "metadata": {
      "needs_background": "light"
     },
     "output_type": "display_data"
    },
    {
     "data": {
      "image/png": "[encoded data removed]",
      "text/plain": [
       "<Figure size 432x288 with 1 Axes>"
      ]
     },
     "metadata": {
      "needs_background": "light"
     },
     "output_type": "display_data"
    },
    {
     "data": {
      "image/png": "[encoded data removed]",
      "text/plain": [
       "<Figure size 432x288 with 1 Axes>"
      ]
     },
     "metadata": {
      "needs_background": "light"
     },
     "output_type": "display_data"
    },
    {
     "data": {
      "image/png": "[encoded data removed]",
      "text/plain": [
       "<Figure size 432x288 with 1 Axes>"
      ]
     },
     "metadata": {
      "needs_background": "light"
     },
     "output_type": "display_data"
    }
   ],
   "source": [
    "for misclassified in top_ten_misclassified:\n",
    "    plt.imshow(train_subset[misclassified][0].cpu().reshape(28,28))\n",
    "    with torch.no_grad():\n",
    "        data, target = train_subset[misclassified]\n",
    "        data = data.reshape(1, 28*28)\n",
    "        output = net(data)\n",
    "        prob, predicted = torch.max(output.data, 1)\n",
    "        plt.title(f'Predicted: {predicted.item()}, Ground truth: {torch.argmax(target)}, Probs: {prob.item()}')\n",
    "    plt.show()"
   ]
  },
  {
   "cell_type": "code",
   "execution_count": 56,
   "metadata": {},
   "outputs": [
    {
     "data": {
      "text/plain": [
       "2"
      ]
     },
     "execution_count": 56,
     "metadata": {},
     "output_type": "execute_result"
    }
   ],
   "source": [
    "2"
   ]
  }
 ],
 "metadata": {
  "kernelspec": {
   "display_name": "Python 3 (ipykernel)",
   "language": "python",
   "name": "python3"
  },
  "language_info": {
   "codemirror_mode": {
    "name": "ipython",
    "version": 3
   },
   "file_extension": ".py",
   "mimetype": "text/x-python",
   "name": "python",
   "nbconvert_exporter": "python",
   "pygments_lexer": "ipython3",
   "version": "3.10.5"
  }
 },
 "nbformat": 4,
 "nbformat_minor": 4
}
